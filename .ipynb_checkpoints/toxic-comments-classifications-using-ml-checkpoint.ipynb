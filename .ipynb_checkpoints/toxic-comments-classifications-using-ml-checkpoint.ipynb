{
 "cells": [
  {
   "cell_type": "markdown",
   "metadata": {
    "papermill": {
     "duration": 0.034769,
     "end_time": "2020-12-24T17:12:16.071601",
     "exception": false,
     "start_time": "2020-12-24T17:12:16.036832",
     "status": "completed"
    },
    "tags": []
   },
   "source": [
    "### Importing the required libraries ###"
   ]
  },
  {
   "cell_type": "code",
   "execution_count": 1,
   "metadata": {
    "execution": {
     "iopub.execute_input": "2020-12-24T17:12:16.141449Z",
     "iopub.status.busy": "2020-12-24T17:12:16.140808Z",
     "iopub.status.idle": "2020-12-24T17:12:17.051927Z",
     "shell.execute_reply": "2020-12-24T17:12:17.051281Z"
    },
    "papermill": {
     "duration": 0.94637,
     "end_time": "2020-12-24T17:12:17.052082",
     "exception": false,
     "start_time": "2020-12-24T17:12:16.105712",
     "status": "completed"
    },
    "tags": []
   },
   "outputs": [],
   "source": [
    "import numpy as np\n",
    "import pandas as pd\n",
    "from matplotlib import pyplot as plt\n",
    "%matplotlib inline\n",
    "import seaborn as sns\n",
    "import re\n",
    "import zipfile\n"
   ]
  },
  {
   "cell_type": "markdown",
   "metadata": {
    "_cell_guid": "79c7e3d0-c299-4dcb-8224-4455121ee9b0",
    "_uuid": "d629ff2d2480ee46fbb7e2d37f6b5fab8052498a",
    "collapsed": true,
    "papermill": {
     "duration": 0.033324,
     "end_time": "2020-12-24T17:12:17.120213",
     "exception": false,
     "start_time": "2020-12-24T17:12:17.086889",
     "status": "completed"
    },
    "tags": []
   },
   "source": [
    "### UNZIP files ###"
   ]
  },
  {
   "cell_type": "code",
   "execution_count": 2,
   "metadata": {
    "execution": {
     "iopub.execute_input": "2020-12-24T17:12:17.193611Z",
     "iopub.status.busy": "2020-12-24T17:12:17.192822Z",
     "iopub.status.idle": "2020-12-24T17:12:18.870463Z",
     "shell.execute_reply": "2020-12-24T17:12:18.869251Z"
    },
    "papermill": {
     "duration": 1.716338,
     "end_time": "2020-12-24T17:12:18.870598",
     "exception": false,
     "start_time": "2020-12-24T17:12:17.154260",
     "status": "completed"
    },
    "tags": []
   },
   "outputs": [],
   "source": [
    "# Will unzip the files so that you can see them..\n",
    "with zipfile.ZipFile(\"/kaggle/input/jigsaw-toxic-comment-classification-challenge/train.csv.zip\",\"r\") as z:\n",
    "    z.extractall(\".\")\n"
   ]
  },
  {
   "cell_type": "code",
   "execution_count": 3,
   "metadata": {
    "execution": {
     "iopub.execute_input": "2020-12-24T17:12:18.946061Z",
     "iopub.status.busy": "2020-12-24T17:12:18.945226Z",
     "iopub.status.idle": "2020-12-24T17:12:18.948781Z",
     "shell.execute_reply": "2020-12-24T17:12:18.949274Z"
    },
    "papermill": {
     "duration": 0.043651,
     "end_time": "2020-12-24T17:12:18.949399",
     "exception": false,
     "start_time": "2020-12-24T17:12:18.905748",
     "status": "completed"
    },
    "tags": []
   },
   "outputs": [
    {
     "name": "stdout",
     "output_type": "stream",
     "text": [
      "/kaggle/working/train.csv\n",
      "/kaggle/working/__notebook__.ipynb\n"
     ]
    }
   ],
   "source": [
    "import os\n",
    "for dirname, _, filenames in os.walk('/kaggle/working/'):\n",
    "    for filename in filenames:\n",
    "        print(os.path.join(dirname, filename))"
   ]
  },
  {
   "cell_type": "markdown",
   "metadata": {
    "papermill": {
     "duration": 0.034098,
     "end_time": "2020-12-24T17:12:19.019139",
     "exception": false,
     "start_time": "2020-12-24T17:12:18.985041",
     "status": "completed"
    },
    "tags": []
   },
   "source": [
    "### Reading the Train File ###"
   ]
  },
  {
   "cell_type": "code",
   "execution_count": 4,
   "metadata": {
    "execution": {
     "iopub.execute_input": "2020-12-24T17:12:19.090592Z",
     "iopub.status.busy": "2020-12-24T17:12:19.089618Z",
     "iopub.status.idle": "2020-12-24T17:12:19.895181Z",
     "shell.execute_reply": "2020-12-24T17:12:19.894593Z"
    },
    "papermill": {
     "duration": 0.841772,
     "end_time": "2020-12-24T17:12:19.895293",
     "exception": false,
     "start_time": "2020-12-24T17:12:19.053521",
     "status": "completed"
    },
    "tags": []
   },
   "outputs": [
    {
     "name": "stdout",
     "output_type": "stream",
     "text": [
      "Loading in comments...\n",
      "                 id                                       comment_text  toxic  \\\n",
      "0  0000997932d777bf  Explanation\\nWhy the edits made under my usern...      0   \n",
      "1  000103f0d9cfb60f  D'aww! He matches this background colour I'm s...      0   \n",
      "2  000113f07ec002fd  Hey man, I'm really not trying to edit war. It...      0   \n",
      "3  0001b41b1c6bb37e  \"\\nMore\\nI can't make any real suggestions on ...      0   \n",
      "4  0001d958c54c6e35  You, sir, are my hero. Any chance you remember...      0   \n",
      "\n",
      "   severe_toxic  obscene  threat  insult  identity_hate  \n",
      "0             0        0       0       0              0  \n",
      "1             0        0       0       0              0  \n",
      "2             0        0       0       0              0  \n",
      "3             0        0       0       0              0  \n",
      "4             0        0       0       0              0  \n"
     ]
    }
   ],
   "source": [
    "# prepare text samples and their labels\n",
    "print('Loading in comments...')\n",
    "\n",
    "data = pd.read_csv(\"/kaggle/working/train.csv\")\n",
    "print(data.head())"
   ]
  },
  {
   "cell_type": "code",
   "execution_count": 5,
   "metadata": {
    "execution": {
     "iopub.execute_input": "2020-12-24T17:12:19.974949Z",
     "iopub.status.busy": "2020-12-24T17:12:19.974100Z",
     "iopub.status.idle": "2020-12-24T17:12:19.978470Z",
     "shell.execute_reply": "2020-12-24T17:12:19.978003Z"
    },
    "papermill": {
     "duration": 0.046702,
     "end_time": "2020-12-24T17:12:19.978591",
     "exception": false,
     "start_time": "2020-12-24T17:12:19.931889",
     "status": "completed"
    },
    "tags": []
   },
   "outputs": [
    {
     "data": {
      "text/plain": [
       "Index(['id', 'comment_text', 'toxic', 'severe_toxic', 'obscene', 'threat',\n",
       "       'insult', 'identity_hate'],\n",
       "      dtype='object')"
      ]
     },
     "execution_count": 5,
     "metadata": {},
     "output_type": "execute_result"
    }
   ],
   "source": [
    "# Feature Imformation \n",
    "data.columns"
   ]
  },
  {
   "cell_type": "code",
   "execution_count": 6,
   "metadata": {
    "execution": {
     "iopub.execute_input": "2020-12-24T17:12:20.055065Z",
     "iopub.status.busy": "2020-12-24T17:12:20.054436Z",
     "iopub.status.idle": "2020-12-24T17:12:20.058809Z",
     "shell.execute_reply": "2020-12-24T17:12:20.059350Z"
    },
    "papermill": {
     "duration": 0.044385,
     "end_time": "2020-12-24T17:12:20.059481",
     "exception": false,
     "start_time": "2020-12-24T17:12:20.015096",
     "status": "completed"
    },
    "tags": []
   },
   "outputs": [
    {
     "data": {
      "text/plain": [
       "(159571, 8)"
      ]
     },
     "execution_count": 6,
     "metadata": {},
     "output_type": "execute_result"
    }
   ],
   "source": [
    "# Data Dimension \n",
    "\n",
    "data.shape "
   ]
  },
  {
   "cell_type": "code",
   "execution_count": 7,
   "metadata": {
    "execution": {
     "iopub.execute_input": "2020-12-24T17:12:20.136203Z",
     "iopub.status.busy": "2020-12-24T17:12:20.135635Z",
     "iopub.status.idle": "2020-12-24T17:12:20.139109Z",
     "shell.execute_reply": "2020-12-24T17:12:20.139652Z"
    },
    "papermill": {
     "duration": 0.043057,
     "end_time": "2020-12-24T17:12:20.139779",
     "exception": false,
     "start_time": "2020-12-24T17:12:20.096722",
     "status": "completed"
    },
    "tags": []
   },
   "outputs": [],
   "source": [
    "cols_target = ['obscene','insult','toxic','severe_toxic','identity_hate','threat']"
   ]
  },
  {
   "cell_type": "code",
   "execution_count": 8,
   "metadata": {
    "execution": {
     "iopub.execute_input": "2020-12-24T17:12:20.217727Z",
     "iopub.status.busy": "2020-12-24T17:12:20.217107Z",
     "iopub.status.idle": "2020-12-24T17:12:20.247506Z",
     "shell.execute_reply": "2020-12-24T17:12:20.246992Z"
    },
    "papermill": {
     "duration": 0.070471,
     "end_time": "2020-12-24T17:12:20.247603",
     "exception": false,
     "start_time": "2020-12-24T17:12:20.177132",
     "status": "completed"
    },
    "tags": []
   },
   "outputs": [
    {
     "name": "stdout",
     "output_type": "stream",
     "text": [
      "0\n"
     ]
    }
   ],
   "source": [
    "# Check Missing Value \n",
    "\n",
    "print(data[\"comment_text\"].isna().sum())\n",
    "\n",
    "# dropna "
   ]
  },
  {
   "cell_type": "code",
   "execution_count": 9,
   "metadata": {
    "execution": {
     "iopub.execute_input": "2020-12-24T17:12:20.336767Z",
     "iopub.status.busy": "2020-12-24T17:12:20.335762Z",
     "iopub.status.idle": "2020-12-24T17:12:20.377697Z",
     "shell.execute_reply": "2020-12-24T17:12:20.378157Z"
    },
    "papermill": {
     "duration": 0.093677,
     "end_time": "2020-12-24T17:12:20.378289",
     "exception": false,
     "start_time": "2020-12-24T17:12:20.284612",
     "status": "completed"
    },
    "tags": []
   },
   "outputs": [
    {
     "data": {
      "text/html": [
       "<div>\n",
       "<style scoped>\n",
       "    .dataframe tbody tr th:only-of-type {\n",
       "        vertical-align: middle;\n",
       "    }\n",
       "\n",
       "    .dataframe tbody tr th {\n",
       "        vertical-align: top;\n",
       "    }\n",
       "\n",
       "    .dataframe thead th {\n",
       "        text-align: right;\n",
       "    }\n",
       "</style>\n",
       "<table border=\"1\" class=\"dataframe\">\n",
       "  <thead>\n",
       "    <tr style=\"text-align: right;\">\n",
       "      <th></th>\n",
       "      <th>toxic</th>\n",
       "      <th>severe_toxic</th>\n",
       "      <th>obscene</th>\n",
       "      <th>threat</th>\n",
       "      <th>insult</th>\n",
       "      <th>identity_hate</th>\n",
       "    </tr>\n",
       "  </thead>\n",
       "  <tbody>\n",
       "    <tr>\n",
       "      <th>count</th>\n",
       "      <td>159571.000000</td>\n",
       "      <td>159571.000000</td>\n",
       "      <td>159571.000000</td>\n",
       "      <td>159571.000000</td>\n",
       "      <td>159571.000000</td>\n",
       "      <td>159571.000000</td>\n",
       "    </tr>\n",
       "    <tr>\n",
       "      <th>mean</th>\n",
       "      <td>0.095844</td>\n",
       "      <td>0.009996</td>\n",
       "      <td>0.052948</td>\n",
       "      <td>0.002996</td>\n",
       "      <td>0.049364</td>\n",
       "      <td>0.008805</td>\n",
       "    </tr>\n",
       "    <tr>\n",
       "      <th>std</th>\n",
       "      <td>0.294379</td>\n",
       "      <td>0.099477</td>\n",
       "      <td>0.223931</td>\n",
       "      <td>0.054650</td>\n",
       "      <td>0.216627</td>\n",
       "      <td>0.093420</td>\n",
       "    </tr>\n",
       "    <tr>\n",
       "      <th>min</th>\n",
       "      <td>0.000000</td>\n",
       "      <td>0.000000</td>\n",
       "      <td>0.000000</td>\n",
       "      <td>0.000000</td>\n",
       "      <td>0.000000</td>\n",
       "      <td>0.000000</td>\n",
       "    </tr>\n",
       "    <tr>\n",
       "      <th>25%</th>\n",
       "      <td>0.000000</td>\n",
       "      <td>0.000000</td>\n",
       "      <td>0.000000</td>\n",
       "      <td>0.000000</td>\n",
       "      <td>0.000000</td>\n",
       "      <td>0.000000</td>\n",
       "    </tr>\n",
       "    <tr>\n",
       "      <th>50%</th>\n",
       "      <td>0.000000</td>\n",
       "      <td>0.000000</td>\n",
       "      <td>0.000000</td>\n",
       "      <td>0.000000</td>\n",
       "      <td>0.000000</td>\n",
       "      <td>0.000000</td>\n",
       "    </tr>\n",
       "    <tr>\n",
       "      <th>75%</th>\n",
       "      <td>0.000000</td>\n",
       "      <td>0.000000</td>\n",
       "      <td>0.000000</td>\n",
       "      <td>0.000000</td>\n",
       "      <td>0.000000</td>\n",
       "      <td>0.000000</td>\n",
       "    </tr>\n",
       "    <tr>\n",
       "      <th>max</th>\n",
       "      <td>1.000000</td>\n",
       "      <td>1.000000</td>\n",
       "      <td>1.000000</td>\n",
       "      <td>1.000000</td>\n",
       "      <td>1.000000</td>\n",
       "      <td>1.000000</td>\n",
       "    </tr>\n",
       "  </tbody>\n",
       "</table>\n",
       "</div>"
      ],
      "text/plain": [
       "               toxic   severe_toxic        obscene         threat  \\\n",
       "count  159571.000000  159571.000000  159571.000000  159571.000000   \n",
       "mean        0.095844       0.009996       0.052948       0.002996   \n",
       "std         0.294379       0.099477       0.223931       0.054650   \n",
       "min         0.000000       0.000000       0.000000       0.000000   \n",
       "25%         0.000000       0.000000       0.000000       0.000000   \n",
       "50%         0.000000       0.000000       0.000000       0.000000   \n",
       "75%         0.000000       0.000000       0.000000       0.000000   \n",
       "max         1.000000       1.000000       1.000000       1.000000   \n",
       "\n",
       "              insult  identity_hate  \n",
       "count  159571.000000  159571.000000  \n",
       "mean        0.049364       0.008805  \n",
       "std         0.216627       0.093420  \n",
       "min         0.000000       0.000000  \n",
       "25%         0.000000       0.000000  \n",
       "50%         0.000000       0.000000  \n",
       "75%         0.000000       0.000000  \n",
       "max         1.000000       1.000000  "
      ]
     },
     "execution_count": 9,
     "metadata": {},
     "output_type": "execute_result"
    }
   ],
   "source": [
    "# check missing values in numeric columns\n",
    "data.describe()"
   ]
  },
  {
   "cell_type": "code",
   "execution_count": 10,
   "metadata": {
    "execution": {
     "iopub.execute_input": "2020-12-24T17:12:20.459830Z",
     "iopub.status.busy": "2020-12-24T17:12:20.459182Z",
     "iopub.status.idle": "2020-12-24T17:12:20.494787Z",
     "shell.execute_reply": "2020-12-24T17:12:20.495255Z"
    },
    "papermill": {
     "duration": 0.079923,
     "end_time": "2020-12-24T17:12:20.495389",
     "exception": false,
     "start_time": "2020-12-24T17:12:20.415466",
     "status": "completed"
    },
    "tags": []
   },
   "outputs": [
    {
     "name": "stdout",
     "output_type": "stream",
     "text": [
      "Percentage of unlabelled comments or good comments is  89.83211235124176\n"
     ]
    }
   ],
   "source": [
    "unlabelled_in_all = data[(data['toxic']!=1) & (data['severe_toxic']!=1) &\n",
    "                             (data['obscene']!=1) & (data['threat']!=1) &\n",
    "                             (data['insult']!=1) & (data['identity_hate']!=1)]\n",
    "print('Percentage of unlabelled comments or good comments is ', len(unlabelled_in_all)/len(data)*100)"
   ]
  },
  {
   "cell_type": "code",
   "execution_count": 11,
   "metadata": {
    "execution": {
     "iopub.execute_input": "2020-12-24T17:12:20.580101Z",
     "iopub.status.busy": "2020-12-24T17:12:20.579256Z",
     "iopub.status.idle": "2020-12-24T17:12:20.586985Z",
     "shell.execute_reply": "2020-12-24T17:12:20.586439Z"
    },
    "papermill": {
     "duration": 0.052832,
     "end_time": "2020-12-24T17:12:20.587099",
     "exception": false,
     "start_time": "2020-12-24T17:12:20.534267",
     "status": "completed"
    },
    "tags": []
   },
   "outputs": [
    {
     "name": "stdout",
     "output_type": "stream",
     "text": [
      "Percentage of comments which is present in all categories is  0.019427088882065038\n"
     ]
    }
   ],
   "source": [
    "labelled_in_all = data[(data['toxic']==1) & (data['severe_toxic']==1) &\n",
    "                             (data['obscene']==1) & (data['threat']==1) &\n",
    "                             (data['insult']==1) & (data['identity_hate']==1)]\n",
    "print('Percentage of comments which is present in all categories is ', len(labelled_in_all)/len(data)*100)"
   ]
  },
  {
   "cell_type": "code",
   "execution_count": 12,
   "metadata": {
    "execution": {
     "iopub.execute_input": "2020-12-24T17:12:20.666955Z",
     "iopub.status.busy": "2020-12-24T17:12:20.666023Z",
     "iopub.status.idle": "2020-12-24T17:12:20.679063Z",
     "shell.execute_reply": "2020-12-24T17:12:20.679515Z"
    },
    "papermill": {
     "duration": 0.054698,
     "end_time": "2020-12-24T17:12:20.679674",
     "exception": false,
     "start_time": "2020-12-24T17:12:20.624976",
     "status": "completed"
    },
    "tags": []
   },
   "outputs": [
    {
     "name": "stdout",
     "output_type": "stream",
     "text": [
      "Total rows in train is 159571\n",
      "obscene           8449\n",
      "insult            7877\n",
      "toxic            15294\n",
      "severe_toxic      1595\n",
      "identity_hate     1405\n",
      "threat             478\n",
      "dtype: int64\n"
     ]
    }
   ],
   "source": [
    "# let's see the total rows in train, test data and the numbers for the various categories\n",
    "print('Total rows in train is {}'.format(len(data)))\n",
    "print(data[cols_target].sum())"
   ]
  },
  {
   "cell_type": "markdown",
   "metadata": {
    "papermill": {
     "duration": 0.043453,
     "end_time": "2020-12-24T17:12:20.761773",
     "exception": false,
     "start_time": "2020-12-24T17:12:20.718320",
     "status": "completed"
    },
    "tags": []
   },
   "source": [
    "Next, let's examine the correlations among the target variables."
   ]
  },
  {
   "cell_type": "code",
   "execution_count": 13,
   "metadata": {
    "execution": {
     "iopub.execute_input": "2020-12-24T17:12:20.860146Z",
     "iopub.status.busy": "2020-12-24T17:12:20.859121Z",
     "iopub.status.idle": "2020-12-24T17:12:21.281424Z",
     "shell.execute_reply": "2020-12-24T17:12:21.280883Z"
    },
    "papermill": {
     "duration": 0.473218,
     "end_time": "2020-12-24T17:12:21.281526",
     "exception": false,
     "start_time": "2020-12-24T17:12:20.808308",
     "status": "completed"
    },
    "tags": []
   },
   "outputs": [
    {
     "data": {
      "text/plain": [
       "<matplotlib.axes._subplots.AxesSubplot at 0x7fdd8af8a690>"
      ]
     },
     "execution_count": 13,
     "metadata": {},
     "output_type": "execute_result"
    },
    {
     "data": {
      "image/png": "[encoded data removed]",
      "text/plain": [
       "<Figure size 504x504 with 2 Axes>"
      ]
     },
     "metadata": {
      "needs_background": "light"
     },
     "output_type": "display_data"
    }
   ],
   "source": [
    "target_data = data[cols_target]\n",
    "colormap = plt.cm.plasma\n",
    "plt.figure(figsize=(7,7))\n",
    "plt.title('Correlation of features & targets',y=1.05,size=14)\n",
    "sns.heatmap(target_data.astype(float).corr(),linewidths=0.1,vmax=1.0,square=True,cmap=colormap,\n",
    "           linecolor='white',annot=True)"
   ]
  },
  {
   "cell_type": "markdown",
   "metadata": {
    "papermill": {
     "duration": 0.040953,
     "end_time": "2020-12-24T17:12:21.363041",
     "exception": false,
     "start_time": "2020-12-24T17:12:21.322088",
     "status": "completed"
    },
    "tags": []
   },
   "source": [
    "Indeed, it looks like some of the labels are higher correlated, e.g. insult-obscene has the highest at 0.74, followed by toxic-obscene and toxic-insult."
   ]
  },
  {
   "cell_type": "markdown",
   "metadata": {
    "papermill": {
     "duration": 0.040093,
     "end_time": "2020-12-24T17:12:21.443546",
     "exception": false,
     "start_time": "2020-12-24T17:12:21.403453",
     "status": "completed"
    },
    "tags": []
   },
   "source": [
    "### Now this kind of problem is ###\n",
    "\n",
    "1) Multi class problem and not Binary\n",
    "\n",
    "2) Also all classes are not independent but rather dependent or correlated \n",
    "\n",
    "3) A comment can belong to multiple classes at the same time for e.g. comment can be toxic and insulting at the same time\n",
    "\n",
    "Let us simplify the problem by first classifying the comments as \"block\" vs \"allow\" "
   ]
  },
  {
   "cell_type": "code",
   "execution_count": 14,
   "metadata": {
    "execution": {
     "iopub.execute_input": "2020-12-24T17:12:21.535894Z",
     "iopub.status.busy": "2020-12-24T17:12:21.534849Z",
     "iopub.status.idle": "2020-12-24T17:12:21.547718Z",
     "shell.execute_reply": "2020-12-24T17:12:21.547177Z"
    },
    "papermill": {
     "duration": 0.062554,
     "end_time": "2020-12-24T17:12:21.547827",
     "exception": false,
     "start_time": "2020-12-24T17:12:21.485273",
     "status": "completed"
    },
    "tags": []
   },
   "outputs": [
    {
     "name": "stdout",
     "output_type": "stream",
     "text": [
      "0    143346\n",
      "1      6360\n",
      "3      4209\n",
      "2      3480\n",
      "4      1760\n",
      "5       385\n",
      "6        31\n",
      "Name: block, dtype: int64\n",
      "0    143346\n",
      "1     16225\n",
      "Name: block, dtype: int64\n"
     ]
    }
   ],
   "source": [
    "data['block'] =data[cols_target].sum(axis =1)\n",
    "print(data['block'].value_counts())\n",
    "data['block'] = data['block'] > 0 \n",
    "data['block'] = data['block'].astype(int)\n",
    "print(data['block'].value_counts())\n"
   ]
  },
  {
   "cell_type": "code",
   "execution_count": 15,
   "metadata": {
    "execution": {
     "iopub.execute_input": "2020-12-24T17:12:21.633966Z",
     "iopub.status.busy": "2020-12-24T17:12:21.633308Z",
     "iopub.status.idle": "2020-12-24T17:12:21.769731Z",
     "shell.execute_reply": "2020-12-24T17:12:21.769266Z"
    },
    "papermill": {
     "duration": 0.179536,
     "end_time": "2020-12-24T17:12:21.769858",
     "exception": false,
     "start_time": "2020-12-24T17:12:21.590322",
     "status": "completed"
    },
    "tags": []
   },
   "outputs": [
    {
     "data": {
      "image/png": "[encoded data removed]",
      "text/plain": [
       "<Figure size 432x288 with 1 Axes>"
      ]
     },
     "metadata": {},
     "output_type": "display_data"
    }
   ],
   "source": [
    "# look at the count plot for text length\n",
    "sns.set()\n",
    "sns.countplot(x=\"block\" , data = data )\n",
    "plt.show()"
   ]
  },
  {
   "cell_type": "code",
   "execution_count": 16,
   "metadata": {
    "execution": {
     "iopub.execute_input": "2020-12-24T17:12:21.861093Z",
     "iopub.status.busy": "2020-12-24T17:12:21.860419Z",
     "iopub.status.idle": "2020-12-24T17:12:21.864561Z",
     "shell.execute_reply": "2020-12-24T17:12:21.863864Z"
    },
    "papermill": {
     "duration": 0.052331,
     "end_time": "2020-12-24T17:12:21.864687",
     "exception": false,
     "start_time": "2020-12-24T17:12:21.812356",
     "status": "completed"
    },
    "tags": []
   },
   "outputs": [
    {
     "name": "stdout",
     "output_type": "stream",
     "text": [
      "Percentage Event Rate :  10.17 %\n"
     ]
    }
   ],
   "source": [
    "# Event Rate \n",
    "\n",
    "print(\"Percentage Event Rate : \" , round(100*data['block'].sum()/data.shape[0],2) , \"%\")"
   ]
  },
  {
   "cell_type": "markdown",
   "metadata": {
    "papermill": {
     "duration": 0.041821,
     "end_time": "2020-12-24T17:12:21.948567",
     "exception": false,
     "start_time": "2020-12-24T17:12:21.906746",
     "status": "completed"
    },
    "tags": []
   },
   "source": [
    "### Let us focus on comments  ###"
   ]
  },
  {
   "cell_type": "code",
   "execution_count": 17,
   "metadata": {
    "execution": {
     "iopub.execute_input": "2020-12-24T17:12:22.038669Z",
     "iopub.status.busy": "2020-12-24T17:12:22.038061Z",
     "iopub.status.idle": "2020-12-24T17:12:22.190069Z",
     "shell.execute_reply": "2020-12-24T17:12:22.189451Z"
    },
    "papermill": {
     "duration": 0.197605,
     "end_time": "2020-12-24T17:12:22.190193",
     "exception": false,
     "start_time": "2020-12-24T17:12:21.992588",
     "status": "completed"
    },
    "tags": []
   },
   "outputs": [],
   "source": [
    "# Let's look at the character length for the rows in the training data and record these\n",
    "data['char_length'] = data['comment_text'].apply(lambda x: len(str(x)))"
   ]
  },
  {
   "cell_type": "code",
   "execution_count": 18,
   "metadata": {
    "execution": {
     "iopub.execute_input": "2020-12-24T17:12:22.280569Z",
     "iopub.status.busy": "2020-12-24T17:12:22.279699Z",
     "iopub.status.idle": "2020-12-24T17:12:22.547692Z",
     "shell.execute_reply": "2020-12-24T17:12:22.547185Z"
    },
    "papermill": {
     "duration": 0.315519,
     "end_time": "2020-12-24T17:12:22.547822",
     "exception": false,
     "start_time": "2020-12-24T17:12:22.232303",
     "status": "completed"
    },
    "tags": []
   },
   "outputs": [
    {
     "data": {
      "image/png": "[encoded data removed]",
      "text/plain": [
       "<Figure size 432x288 with 1 Axes>"
      ]
     },
     "metadata": {},
     "output_type": "display_data"
    }
   ],
   "source": [
    "# look at the histogram plot for text length\n",
    "sns.set()\n",
    "data['char_length'].hist()\n",
    "plt.show()"
   ]
  },
  {
   "cell_type": "markdown",
   "metadata": {
    "papermill": {
     "duration": 0.043363,
     "end_time": "2020-12-24T17:12:22.634498",
     "exception": false,
     "start_time": "2020-12-24T17:12:22.591135",
     "status": "completed"
    },
    "tags": []
   },
   "source": [
    "Most of the text length are within 500 characters, with some up to 5,000 characters long.\n",
    "\n"
   ]
  },
  {
   "cell_type": "markdown",
   "metadata": {
    "papermill": {
     "duration": 0.043179,
     "end_time": "2020-12-24T17:12:22.722734",
     "exception": false,
     "start_time": "2020-12-24T17:12:22.679555",
     "status": "completed"
    },
    "tags": []
   },
   "source": [
    "### Clean the Comments Text ###"
   ]
  },
  {
   "cell_type": "code",
   "execution_count": 19,
   "metadata": {
    "execution": {
     "iopub.execute_input": "2020-12-24T17:12:22.820217Z",
     "iopub.status.busy": "2020-12-24T17:12:22.819471Z",
     "iopub.status.idle": "2020-12-24T17:12:22.822009Z",
     "shell.execute_reply": "2020-12-24T17:12:22.822513Z"
    },
    "papermill": {
     "duration": 0.055817,
     "end_time": "2020-12-24T17:12:22.822629",
     "exception": false,
     "start_time": "2020-12-24T17:12:22.766812",
     "status": "completed"
    },
    "tags": []
   },
   "outputs": [],
   "source": [
    "def clean_text(text):\n",
    "    text = text.lower()\n",
    "    text = re.sub(r\"what's\", \"what is \", text)\n",
    "    text = re.sub(r\"\\'s\", \" \", text)\n",
    "    text = re.sub(r\"\\'ve\", \" have \", text)\n",
    "    text = re.sub(r\"can't\", \"cannot \", text)\n",
    "    text = re.sub(r\"n't\", \" not \", text)\n",
    "    text = re.sub(r\"i'm\", \"i am \", text)\n",
    "    text = re.sub(r\"\\'re\", \" are \", text)\n",
    "    text = re.sub(r\"\\'d\", \" would \", text)\n",
    "    text = re.sub(r\"\\'ll\", \" will \", text)\n",
    "    text = re.sub(r\"\\'scuse\", \" excuse \", text)\n",
    "    text = re.sub('\\W', ' ', text)\n",
    "    text = re.sub('\\s+', ' ', text)\n",
    "    text = text.strip(' ')\n",
    "    return text"
   ]
  },
  {
   "cell_type": "code",
   "execution_count": 20,
   "metadata": {
    "execution": {
     "iopub.execute_input": "2020-12-24T17:12:22.918172Z",
     "iopub.status.busy": "2020-12-24T17:12:22.917079Z",
     "iopub.status.idle": "2020-12-24T17:12:37.151337Z",
     "shell.execute_reply": "2020-12-24T17:12:37.150480Z"
    },
    "papermill": {
     "duration": 14.286104,
     "end_time": "2020-12-24T17:12:37.151487",
     "exception": false,
     "start_time": "2020-12-24T17:12:22.865383",
     "status": "completed"
    },
    "tags": []
   },
   "outputs": [
    {
     "name": "stdout",
     "output_type": "stream",
     "text": [
      "CPU times: user 14.1 s, sys: 88.3 ms, total: 14.2 s\n",
      "Wall time: 14.2 s\n"
     ]
    }
   ],
   "source": [
    "%%time \n",
    "# clean the comment_text in train_df [Thanks to Pulkit Jha for the useful pointer.]\n",
    "data['comment_text'] = data['comment_text'].map(lambda com : clean_text(com))"
   ]
  },
  {
   "cell_type": "code",
   "execution_count": 21,
   "metadata": {
    "execution": {
     "iopub.execute_input": "2020-12-24T17:12:37.244298Z",
     "iopub.status.busy": "2020-12-24T17:12:37.243633Z",
     "iopub.status.idle": "2020-12-24T17:12:37.380360Z",
     "shell.execute_reply": "2020-12-24T17:12:37.379679Z"
    },
    "papermill": {
     "duration": 0.184871,
     "end_time": "2020-12-24T17:12:37.380464",
     "exception": false,
     "start_time": "2020-12-24T17:12:37.195593",
     "status": "completed"
    },
    "tags": []
   },
   "outputs": [],
   "source": [
    "from sklearn.model_selection import train_test_split\n",
    "\n",
    "X_train, X_test, y_train, y_test = train_test_split(data['comment_text'], data['block'], test_size=0.2, random_state=42)"
   ]
  },
  {
   "cell_type": "code",
   "execution_count": 22,
   "metadata": {
    "execution": {
     "iopub.execute_input": "2020-12-24T17:12:37.472291Z",
     "iopub.status.busy": "2020-12-24T17:12:37.471610Z",
     "iopub.status.idle": "2020-12-24T17:12:37.475996Z",
     "shell.execute_reply": "2020-12-24T17:12:37.475285Z"
    },
    "papermill": {
     "duration": 0.052361,
     "end_time": "2020-12-24T17:12:37.476152",
     "exception": false,
     "start_time": "2020-12-24T17:12:37.423791",
     "status": "completed"
    },
    "tags": []
   },
   "outputs": [
    {
     "name": "stdout",
     "output_type": "stream",
     "text": [
      "(127656,) (31915,)\n",
      "(127656,) (31915,)\n"
     ]
    }
   ],
   "source": [
    "print(X_train.shape, X_test.shape)\n",
    "print(y_train.shape, y_test.shape)\n"
   ]
  },
  {
   "cell_type": "code",
   "execution_count": 23,
   "metadata": {
    "execution": {
     "iopub.execute_input": "2020-12-24T17:12:37.570992Z",
     "iopub.status.busy": "2020-12-24T17:12:37.570336Z",
     "iopub.status.idle": "2020-12-24T17:12:37.587226Z",
     "shell.execute_reply": "2020-12-24T17:12:37.588013Z"
    },
    "papermill": {
     "duration": 0.067112,
     "end_time": "2020-12-24T17:12:37.588327",
     "exception": false,
     "start_time": "2020-12-24T17:12:37.521215",
     "status": "completed"
    },
    "tags": []
   },
   "outputs": [
    {
     "name": "stdout",
     "output_type": "stream",
     "text": [
      "TfidfVectorizer(max_features=10000, stop_words='english')\n"
     ]
    }
   ],
   "source": [
    "# import and instantiate TfidfVectorizer\n",
    "from sklearn.feature_extraction.text import CountVectorizer\n",
    "from sklearn.feature_extraction.text import TfidfVectorizer\n",
    "vect = TfidfVectorizer(max_features = 10000, stop_words='english')\n",
    "#vect = TfidfVectorizer(stop_words='english')\n",
    "print(vect)"
   ]
  },
  {
   "cell_type": "code",
   "execution_count": 24,
   "metadata": {
    "execution": {
     "iopub.execute_input": "2020-12-24T17:12:37.682393Z",
     "iopub.status.busy": "2020-12-24T17:12:37.681416Z",
     "iopub.status.idle": "2020-12-24T17:12:47.214691Z",
     "shell.execute_reply": "2020-12-24T17:12:47.213700Z"
    },
    "papermill": {
     "duration": 9.581895,
     "end_time": "2020-12-24T17:12:47.214843",
     "exception": false,
     "start_time": "2020-12-24T17:12:37.632948",
     "status": "completed"
    },
    "tags": []
   },
   "outputs": [
    {
     "name": "stdout",
     "output_type": "stream",
     "text": [
      "CPU times: user 9.42 s, sys: 92.7 ms, total: 9.51 s\n",
      "Wall time: 9.52 s\n"
     ]
    },
    {
     "data": {
      "text/plain": [
       "<127656x10000 sparse matrix of type '<class 'numpy.float64'>'\n",
       "\twith 2792162 stored elements in Compressed Sparse Row format>"
      ]
     },
     "execution_count": 24,
     "metadata": {},
     "output_type": "execute_result"
    }
   ],
   "source": [
    "%%time \n",
    "# learn the vocabulary in the training data, then use it to create a document-term matrix\n",
    "X_train_dtm = vect.fit_transform(X_train)\n",
    "# examine the document-term matrix created from X_train\n",
    "X_train_dtm"
   ]
  },
  {
   "cell_type": "code",
   "execution_count": 25,
   "metadata": {
    "execution": {
     "iopub.execute_input": "2020-12-24T17:12:47.308770Z",
     "iopub.status.busy": "2020-12-24T17:12:47.308134Z",
     "iopub.status.idle": "2020-12-24T17:12:47.310921Z",
     "shell.execute_reply": "2020-12-24T17:12:47.311402Z"
    },
    "papermill": {
     "duration": 0.051641,
     "end_time": "2020-12-24T17:12:47.311516",
     "exception": false,
     "start_time": "2020-12-24T17:12:47.259875",
     "status": "completed"
    },
    "tags": []
   },
   "outputs": [
    {
     "data": {
      "text/plain": [
       "(127656, 10000)"
      ]
     },
     "execution_count": 25,
     "metadata": {},
     "output_type": "execute_result"
    }
   ],
   "source": [
    "X_train_dtm.shape"
   ]
  },
  {
   "cell_type": "code",
   "execution_count": 26,
   "metadata": {
    "execution": {
     "iopub.execute_input": "2020-12-24T17:12:47.405761Z",
     "iopub.status.busy": "2020-12-24T17:12:47.405199Z",
     "iopub.status.idle": "2020-12-24T17:12:47.409543Z",
     "shell.execute_reply": "2020-12-24T17:12:47.409998Z"
    },
    "papermill": {
     "duration": 0.053899,
     "end_time": "2020-12-24T17:12:47.410115",
     "exception": false,
     "start_time": "2020-12-24T17:12:47.356216",
     "status": "completed"
    },
    "tags": []
   },
   "outputs": [
    {
     "data": {
      "text/plain": [
       "0.2187254809801341"
      ]
     },
     "execution_count": 26,
     "metadata": {},
     "output_type": "execute_result"
    }
   ],
   "source": [
    "100*2792162/ (127656*10000)"
   ]
  },
  {
   "cell_type": "code",
   "execution_count": 27,
   "metadata": {
    "execution": {
     "iopub.execute_input": "2020-12-24T17:12:47.505646Z",
     "iopub.status.busy": "2020-12-24T17:12:47.505093Z",
     "iopub.status.idle": "2020-12-24T17:12:49.873076Z",
     "shell.execute_reply": "2020-12-24T17:12:49.873871Z"
    },
    "papermill": {
     "duration": 2.417749,
     "end_time": "2020-12-24T17:12:49.874074",
     "exception": false,
     "start_time": "2020-12-24T17:12:47.456325",
     "status": "completed"
    },
    "tags": []
   },
   "outputs": [
    {
     "name": "stdout",
     "output_type": "stream",
     "text": [
      "CPU times: user 2.36 s, sys: 0 ns, total: 2.36 s\n",
      "Wall time: 2.36 s\n"
     ]
    },
    {
     "data": {
      "text/plain": [
       "<31915x10000 sparse matrix of type '<class 'numpy.float64'>'\n",
       "\twith 688258 stored elements in Compressed Sparse Row format>"
      ]
     },
     "execution_count": 27,
     "metadata": {},
     "output_type": "execute_result"
    }
   ],
   "source": [
    "%%time\n",
    "# transform the test data using the earlier fitted vocabulary, into a document-term matrix\n",
    "X_test_dtm = vect.transform(X_test)\n",
    "# examine the document-term matrix from X_test\n",
    "X_test_dtm"
   ]
  },
  {
   "cell_type": "markdown",
   "metadata": {
    "papermill": {
     "duration": 0.048505,
     "end_time": "2020-12-24T17:12:49.982275",
     "exception": false,
     "start_time": "2020-12-24T17:12:49.933770",
     "status": "completed"
    },
    "tags": []
   },
   "source": [
    "## Lets us build a binary classifier using Logistic Regression ##"
   ]
  },
  {
   "cell_type": "code",
   "execution_count": 28,
   "metadata": {
    "execution": {
     "iopub.execute_input": "2020-12-24T17:12:50.084441Z",
     "iopub.status.busy": "2020-12-24T17:12:50.083666Z",
     "iopub.status.idle": "2020-12-24T17:12:51.766291Z",
     "shell.execute_reply": "2020-12-24T17:12:51.765530Z"
    },
    "papermill": {
     "duration": 1.737147,
     "end_time": "2020-12-24T17:12:51.766405",
     "exception": false,
     "start_time": "2020-12-24T17:12:50.029258",
     "status": "completed"
    },
    "tags": []
   },
   "outputs": [
    {
     "name": "stdout",
     "output_type": "stream",
     "text": [
      "Training accuracy is 0.9594613649182178\n",
      "Test accuracy is 0.9563214789284036\n",
      "[[28507   164]\n",
      " [ 1230  2014]]\n"
     ]
    }
   ],
   "source": [
    "# import and instantiate the Logistic Regression model\n",
    "from sklearn.linear_model import LogisticRegression\n",
    "from sklearn.metrics import accuracy_score\n",
    "from sklearn.metrics import confusion_matrix\n",
    "logreg = LogisticRegression(C=1, max_iter = 2000)\n",
    "\n",
    "\n",
    "\n",
    "# train the model using X_train_dtm & y_train\n",
    "logreg.fit(X_train_dtm, y_train)\n",
    "# compute the training accuracy\n",
    "y_pred_train = logreg.predict(X_train_dtm)\n",
    "print('Training accuracy is {}'.format(accuracy_score(y_train, y_pred_train)))\n",
    "# compute the predicted probabilities for X_test_dtm\n",
    "y_pred_test = logreg.predict(X_test_dtm)\n",
    "print('Test accuracy is {}'.format(accuracy_score(y_test,y_pred_test)))\n",
    "print(confusion_matrix(y_test,y_pred_test))\n"
   ]
  },
  {
   "cell_type": "code",
   "execution_count": 29,
   "metadata": {
    "execution": {
     "iopub.execute_input": "2020-12-24T17:12:51.866564Z",
     "iopub.status.busy": "2020-12-24T17:12:51.865875Z",
     "iopub.status.idle": "2020-12-24T17:12:51.868307Z",
     "shell.execute_reply": "2020-12-24T17:12:51.868803Z"
    },
    "papermill": {
     "duration": 0.054841,
     "end_time": "2020-12-24T17:12:51.868950",
     "exception": false,
     "start_time": "2020-12-24T17:12:51.814109",
     "status": "completed"
    },
    "tags": []
   },
   "outputs": [],
   "source": [
    "#28507 -> comments  are good and predeicted as good \n",
    "#2014 -> comments are block and predicted as block\n",
    "#164 -> comments are good but predicted as block\n",
    "#1230 -> comments are block but predicted as good\n"
   ]
  },
  {
   "cell_type": "code",
   "execution_count": 30,
   "metadata": {
    "execution": {
     "iopub.execute_input": "2020-12-24T17:12:51.969126Z",
     "iopub.status.busy": "2020-12-24T17:12:51.968502Z",
     "iopub.status.idle": "2020-12-24T17:12:51.974155Z",
     "shell.execute_reply": "2020-12-24T17:12:51.974690Z"
    },
    "papermill": {
     "duration": 0.056608,
     "end_time": "2020-12-24T17:12:51.974808",
     "exception": false,
     "start_time": "2020-12-24T17:12:51.918200",
     "status": "completed"
    },
    "tags": []
   },
   "outputs": [
    {
     "data": {
      "text/plain": [
       "0.9563214789284036"
      ]
     },
     "execution_count": 30,
     "metadata": {},
     "output_type": "execute_result"
    }
   ],
   "source": [
    "(28507 + 2014)/(28507+2014+164+1230)\n"
   ]
  },
  {
   "cell_type": "code",
   "execution_count": 31,
   "metadata": {
    "execution": {
     "iopub.execute_input": "2020-12-24T17:12:52.075990Z",
     "iopub.status.busy": "2020-12-24T17:12:52.075366Z",
     "iopub.status.idle": "2020-12-24T17:12:52.348086Z",
     "shell.execute_reply": "2020-12-24T17:12:52.347167Z"
    },
    "papermill": {
     "duration": 0.324005,
     "end_time": "2020-12-24T17:12:52.348192",
     "exception": false,
     "start_time": "2020-12-24T17:12:52.024187",
     "status": "completed"
    },
    "tags": []
   },
   "outputs": [
    {
     "data": {
      "image/png": "[encoded data removed]",
      "text/plain": [
       "<Figure size 432x288 with 1 Axes>"
      ]
     },
     "metadata": {},
     "output_type": "display_data"
    }
   ],
   "source": [
    "import sklearn.metrics as metrics\n",
    "# calculate the fpr and tpr for all thresholds of the classification\n",
    "probs = logreg.predict_proba(X_test_dtm)\n",
    "preds = probs[:,1]\n",
    "fpr, tpr, threshold = metrics.roc_curve(y_test, preds)\n",
    "roc_auc = metrics.auc(fpr, tpr)\n",
    "\n",
    "# method I: plt\n",
    "import matplotlib.pyplot as plt\n",
    "plt.title('Receiver Operating Characteristic')\n",
    "plt.plot(fpr, tpr, 'b', label = 'AUC = %0.2f' % roc_auc)\n",
    "plt.legend(loc = 'lower right')\n",
    "plt.plot([0, 1], [0, 1],'r--')\n",
    "plt.xlim([0, 1])\n",
    "plt.ylim([0, 1])\n",
    "plt.ylabel('True Positive Rate')\n",
    "plt.xlabel('False Positive Rate')\n",
    "plt.show()\n",
    "\n"
   ]
  },
  {
   "cell_type": "markdown",
   "metadata": {
    "papermill": {
     "duration": 0.050022,
     "end_time": "2020-12-24T17:12:52.448055",
     "exception": false,
     "start_time": "2020-12-24T17:12:52.398033",
     "status": "completed"
    },
    "tags": []
   },
   "source": [
    "# Welcome to the curse of Accuracy, F1(help) to the rescue #"
   ]
  },
  {
   "cell_type": "code",
   "execution_count": 32,
   "metadata": {
    "execution": {
     "iopub.execute_input": "2020-12-24T17:12:52.551491Z",
     "iopub.status.busy": "2020-12-24T17:12:52.550902Z",
     "iopub.status.idle": "2020-12-24T17:12:52.565220Z",
     "shell.execute_reply": "2020-12-24T17:12:52.565713Z"
    },
    "papermill": {
     "duration": 0.068825,
     "end_time": "2020-12-24T17:12:52.565849",
     "exception": false,
     "start_time": "2020-12-24T17:12:52.497024",
     "status": "completed"
    },
    "tags": []
   },
   "outputs": [
    {
     "name": "stdout",
     "output_type": "stream",
     "text": [
      "F1 score on Test data :  0.7428992991516045\n"
     ]
    }
   ],
   "source": [
    "from sklearn.metrics import f1_score\n",
    "\n",
    "\n",
    "print(\"F1 score on Test data : \" ,f1_score(y_test,y_pred_test))\n",
    "    \n"
   ]
  },
  {
   "cell_type": "markdown",
   "metadata": {
    "papermill": {
     "duration": 0.050647,
     "end_time": "2020-12-24T17:12:52.666883",
     "exception": false,
     "start_time": "2020-12-24T17:12:52.616236",
     "status": "completed"
    },
    "tags": []
   },
   "source": [
    "### In case of Class Imbalance - we use F1 score as a general measure for the model performance ###\n",
    "\n",
    "Depending on the Business case - we need to fine tune the model \n",
    "\n",
    "There is a Precision vs Recall Trade off \n",
    "\n",
    "If you want to capture all toxic tweets  - then some of the good twwets will be misclassified as bad tweets "
   ]
  },
  {
   "cell_type": "code",
   "execution_count": 33,
   "metadata": {
    "execution": {
     "iopub.execute_input": "2020-12-24T17:12:52.779202Z",
     "iopub.status.busy": "2020-12-24T17:12:52.778545Z",
     "iopub.status.idle": "2020-12-24T17:12:52.846536Z",
     "shell.execute_reply": "2020-12-24T17:12:52.847160Z"
    },
    "papermill": {
     "duration": 0.128756,
     "end_time": "2020-12-24T17:12:52.847305",
     "exception": false,
     "start_time": "2020-12-24T17:12:52.718549",
     "status": "completed"
    },
    "tags": []
   },
   "outputs": [
    {
     "name": "stdout",
     "output_type": "stream",
     "text": [
      "Test accuracy is 0.9515588281372396\n",
      "[[27777   894]\n",
      " [  652  2592]]\n",
      "F1 score on Test data :  0.7702823179791977\n"
     ]
    }
   ],
   "source": [
    "y_pred_test = logreg.predict_proba(X_test_dtm)[:,1]\n",
    "#print(y_pred_test)\n",
    "y_pred_test = y_pred_test >= 0.2 # by default it is 0.5\n",
    "y_pred_test = y_pred_test.astype(int)\n",
    "print('Test accuracy is {}'.format(accuracy_score(y_test,y_pred_test)))\n",
    "print(confusion_matrix(y_test,y_pred_test))\n",
    "print(\"F1 score on Test data : \" ,f1_score(y_test,y_pred_test))"
   ]
  },
  {
   "cell_type": "markdown",
   "metadata": {
    "papermill": {
     "duration": 0.05347,
     "end_time": "2020-12-24T17:12:52.955467",
     "exception": false,
     "start_time": "2020-12-24T17:12:52.901997",
     "status": "completed"
    },
    "tags": []
   },
   "source": [
    "# Let us use a tree base model #"
   ]
  },
  {
   "cell_type": "code",
   "execution_count": 34,
   "metadata": {
    "execution": {
     "iopub.execute_input": "2020-12-24T17:12:53.068263Z",
     "iopub.status.busy": "2020-12-24T17:12:53.067351Z",
     "iopub.status.idle": "2020-12-24T17:16:29.196329Z",
     "shell.execute_reply": "2020-12-24T17:16:29.196821Z"
    },
    "papermill": {
     "duration": 216.188749,
     "end_time": "2020-12-24T17:16:29.196947",
     "exception": false,
     "start_time": "2020-12-24T17:12:53.008198",
     "status": "completed"
    },
    "tags": []
   },
   "outputs": [
    {
     "name": "stdout",
     "output_type": "stream",
     "text": [
      "Training accuracy is 0.9987701322303691\n",
      "Test accuracy is 0.9425661914460285\n",
      "[[27835   836]\n",
      " [  997  2247]]\n",
      "F1 score on Test data :  0.7102892366050261\n",
      "CPU times: user 3min 35s, sys: 62.2 ms, total: 3min 35s\n",
      "Wall time: 3min 36s\n"
     ]
    }
   ],
   "source": [
    "%%time \n",
    "\n",
    "from sklearn.metrics import f1_score\n",
    "from sklearn.tree import DecisionTreeClassifier \n",
    "\n",
    "dt_clf = DecisionTreeClassifier()\n",
    "# train the model using X_train_dtm & y_train\n",
    "dt_clf.fit(X_train_dtm, y_train)\n",
    "# compute the training accuracy\n",
    "y_pred_train = dt_clf.predict(X_train_dtm)\n",
    "print('Training accuracy is {}'.format(accuracy_score(y_train, y_pred_train)))\n",
    "# compute the predicted probabilities for X_test_dtm\n",
    "y_pred_test = dt_clf.predict(X_test_dtm)\n",
    "print('Test accuracy is {}'.format(accuracy_score(y_test,y_pred_test)))\n",
    "print(confusion_matrix(y_test,y_pred_test))\n",
    "print(\"F1 score on Test data : \" ,f1_score(y_test,y_pred_test))"
   ]
  },
  {
   "cell_type": "markdown",
   "metadata": {
    "papermill": {
     "duration": 0.049735,
     "end_time": "2020-12-24T17:16:29.296426",
     "exception": false,
     "start_time": "2020-12-24T17:16:29.246691",
     "status": "completed"
    },
    "tags": []
   },
   "source": [
    "### Lets us try an Ensemble of Trees ###"
   ]
  },
  {
   "cell_type": "code",
   "execution_count": 35,
   "metadata": {
    "execution": {
     "iopub.execute_input": "2020-12-24T17:16:29.401789Z",
     "iopub.status.busy": "2020-12-24T17:16:29.400923Z",
     "iopub.status.idle": "2020-12-24T17:22:23.422732Z",
     "shell.execute_reply": "2020-12-24T17:22:23.419915Z"
    },
    "papermill": {
     "duration": 354.076489,
     "end_time": "2020-12-24T17:22:23.422866",
     "exception": false,
     "start_time": "2020-12-24T17:16:29.346377",
     "status": "completed"
    },
    "tags": []
   },
   "outputs": [
    {
     "name": "stdout",
     "output_type": "stream",
     "text": [
      "Training accuracy is 0.9987544651250235\n",
      "Test accuracy is 0.9576061413128623\n",
      "[[28290   381]\n",
      " [  972  2272]]\n",
      "F1 score on Test data :  0.7705613023571307\n",
      "CPU times: user 5min 53s, sys: 163 ms, total: 5min 53s\n",
      "Wall time: 5min 54s\n"
     ]
    }
   ],
   "source": [
    "%%time \n",
    "from sklearn.metrics import f1_score\n",
    "from sklearn.ensemble import RandomForestClassifier \n",
    "from sklearn.tree import DecisionTreeClassifier \n",
    "\n",
    "rf_clf = RandomForestClassifier()\n",
    "\n",
    "# train the model using X_train_dtm & y_train\n",
    "rf_clf.fit(X_train_dtm, y_train)\n",
    "# compute the training accuracy\n",
    "y_pred_train = rf_clf.predict(X_train_dtm)\n",
    "print('Training accuracy is {}'.format(accuracy_score(y_train, y_pred_train)))\n",
    "# compute the predicted probabilities for X_test_dtm\n",
    "y_pred_test = rf_clf.predict(X_test_dtm)\n",
    "print('Test accuracy is {}'.format(accuracy_score(y_test,y_pred_test)))\n",
    "print(confusion_matrix(y_test,y_pred_test))\n",
    "print(\"F1 score on Test data : \" ,f1_score(y_test,y_pred_test))"
   ]
  },
  {
   "cell_type": "code",
   "execution_count": 36,
   "metadata": {
    "execution": {
     "iopub.execute_input": "2020-12-24T17:22:23.530182Z",
     "iopub.status.busy": "2020-12-24T17:22:23.529605Z",
     "iopub.status.idle": "2020-12-24T17:22:29.069077Z",
     "shell.execute_reply": "2020-12-24T17:22:29.068508Z"
    },
    "papermill": {
     "duration": 5.595719,
     "end_time": "2020-12-24T17:22:29.069205",
     "exception": false,
     "start_time": "2020-12-24T17:22:23.473486",
     "status": "completed"
    },
    "tags": []
   },
   "outputs": [
    {
     "name": "stdout",
     "output_type": "stream",
     "text": [
      "Test accuracy is 0.8090239699201003\n",
      "[[22765  5906]\n",
      " [  189  3055]]\n",
      "F1 score on Test data :  0.5006145022531749\n"
     ]
    }
   ],
   "source": [
    "# Fine Tuning Random Forest \n",
    "\n",
    "y_pred_test = rf_clf.predict_proba(X_test_dtm)[:,1]\n",
    "y_pred_test = y_pred_test >= 0.05 # by default it is 0.5\n",
    "y_pred_test = y_pred_test.astype(int)\n",
    "print('Test accuracy is {}'.format(accuracy_score(y_test,y_pred_test)))\n",
    "print(confusion_matrix(y_test,y_pred_test))\n",
    "print(\"F1 score on Test data : \" ,f1_score(y_test,y_pred_test))"
   ]
  },
  {
   "cell_type": "code",
   "execution_count": 37,
   "metadata": {
    "execution": {
     "iopub.execute_input": "2020-12-24T17:22:29.185744Z",
     "iopub.status.busy": "2020-12-24T17:22:29.185097Z",
     "iopub.status.idle": "2020-12-24T17:22:29.692599Z",
     "shell.execute_reply": "2020-12-24T17:22:29.693084Z"
    },
    "papermill": {
     "duration": 0.567036,
     "end_time": "2020-12-24T17:22:29.693256",
     "exception": false,
     "start_time": "2020-12-24T17:22:29.126220",
     "status": "completed"
    },
    "tags": []
   },
   "outputs": [
    {
     "name": "stdout",
     "output_type": "stream",
     "text": [
      "Training accuracy is 0.9754888136867832\n",
      "Test accuracy is 0.9519348268839104\n",
      "[[28066   605]\n",
      " [  929  2315]]\n",
      "F1 score on Test data :  0.7511356262167422\n",
      "CPU times: user 762 ms, sys: 14 ms, total: 776 ms\n",
      "Wall time: 504 ms\n"
     ]
    }
   ],
   "source": [
    "%%time\n",
    "from sklearn.metrics import f1_score\n",
    "from sklearn.linear_model  import PassiveAggressiveClassifier \n",
    "\n",
    "pa_clf = PassiveAggressiveClassifier()\n",
    "\n",
    "# train the model using X_train_dtm & y_train\n",
    "pa_clf.fit(X_train_dtm, y_train)\n",
    "# compute the training accuracy\n",
    "y_pred_train = pa_clf.predict(X_train_dtm)\n",
    "print('Training accuracy is {}'.format(accuracy_score(y_train, y_pred_train)))\n",
    "# compute the predicted probabilities for X_test_dtm\n",
    "y_pred_test = pa_clf.predict(X_test_dtm)\n",
    "print('Test accuracy is {}'.format(accuracy_score(y_test,y_pred_test)))\n",
    "print(confusion_matrix(y_test,y_pred_test))\n",
    "print(\"F1 score on Test data : \" ,f1_score(y_test,y_pred_test))"
   ]
  },
  {
   "cell_type": "markdown",
   "metadata": {
    "papermill": {
     "duration": 0.052163,
     "end_time": "2020-12-24T17:22:29.800402",
     "exception": false,
     "start_time": "2020-12-24T17:22:29.748239",
     "status": "completed"
    },
    "tags": []
   },
   "source": [
    "### Passive Aggresive Classifier does not support prediction probability - so can't be fined ###"
   ]
  },
  {
   "cell_type": "code",
   "execution_count": 38,
   "metadata": {
    "execution": {
     "iopub.execute_input": "2020-12-24T17:22:29.909726Z",
     "iopub.status.busy": "2020-12-24T17:22:29.908745Z",
     "iopub.status.idle": "2020-12-24T17:23:05.914197Z",
     "shell.execute_reply": "2020-12-24T17:23:05.914800Z"
    },
    "papermill": {
     "duration": 36.06272,
     "end_time": "2020-12-24T17:23:05.914971",
     "exception": false,
     "start_time": "2020-12-24T17:22:29.852251",
     "status": "completed"
    },
    "tags": []
   },
   "outputs": [
    {
     "name": "stdout",
     "output_type": "stream",
     "text": [
      "Training accuracy is 0.9605032274237012\n",
      "Test accuracy is 0.9544414851950493\n",
      "[[28513   158]\n",
      " [ 1296  1948]]\n",
      "F1 score on Test data :  0.7282242990654205\n",
      "CPU times: user 2min 7s, sys: 541 ms, total: 2min 8s\n",
      "Wall time: 36 s\n"
     ]
    }
   ],
   "source": [
    "%%time \n",
    "from sklearn.metrics import f1_score\n",
    "import xgboost \n",
    "\n",
    "xgb = xgboost.XGBClassifier()\n",
    "# train the model using X_train_dtm & y_train\n",
    "xgb.fit(X_train_dtm, y_train)\n",
    "# compute the training accuracy\n",
    "y_pred_train = xgb.predict(X_train_dtm)\n",
    "print('Training accuracy is {}'.format(accuracy_score(y_train, y_pred_train)))\n",
    "# compute the predicted probabilities for X_test_dtm\n",
    "y_pred_test = xgb.predict(X_test_dtm)\n",
    "print('Test accuracy is {}'.format(accuracy_score(y_test,y_pred_test)))\n",
    "print(confusion_matrix(y_test,y_pred_test))\n",
    "print(\"F1 score on Test data : \" ,f1_score(y_test,y_pred_test))"
   ]
  },
  {
   "cell_type": "code",
   "execution_count": 39,
   "metadata": {
    "execution": {
     "iopub.execute_input": "2020-12-24T17:23:06.370840Z",
     "iopub.status.busy": "2020-12-24T17:23:06.370148Z",
     "iopub.status.idle": "2020-12-24T17:23:06.490332Z",
     "shell.execute_reply": "2020-12-24T17:23:06.490927Z"
    },
    "papermill": {
     "duration": 0.505275,
     "end_time": "2020-12-24T17:23:06.491097",
     "exception": false,
     "start_time": "2020-12-24T17:23:05.985822",
     "status": "completed"
    },
    "tags": []
   },
   "outputs": [
    {
     "name": "stdout",
     "output_type": "stream",
     "text": [
      "Test accuracy is 0.8847877173742754\n",
      "[[25405  3266]\n",
      " [  411  2833]]\n",
      "F1 score on Test data :  0.6064433265546398\n"
     ]
    }
   ],
   "source": [
    "# Fine Tuning XGBOOST\n",
    "\n",
    "y_pred_test = xgb.predict_proba(X_test_dtm)[:,1]\n",
    "y_pred_test = y_pred_test >= 0.06 # by default it is 0.5\n",
    "y_pred_test = y_pred_test.astype(int)\n",
    "print('Test accuracy is {}'.format(accuracy_score(y_test,y_pred_test)))\n",
    "print(confusion_matrix(y_test,y_pred_test))\n",
    "print(\"F1 score on Test data : \" ,f1_score(y_test,y_pred_test))"
   ]
  },
  {
   "cell_type": "markdown",
   "metadata": {
    "papermill": {
     "duration": 0.065047,
     "end_time": "2020-12-24T17:23:06.624903",
     "exception": false,
     "start_time": "2020-12-24T17:23:06.559856",
     "status": "completed"
    },
    "tags": []
   },
   "source": [
    "### Advance Models - LightGBM ### "
   ]
  },
  {
   "cell_type": "code",
   "execution_count": 40,
   "metadata": {
    "execution": {
     "iopub.execute_input": "2020-12-24T17:23:06.737523Z",
     "iopub.status.busy": "2020-12-24T17:23:06.736877Z",
     "iopub.status.idle": "2020-12-24T17:24:19.060324Z",
     "shell.execute_reply": "2020-12-24T17:24:19.061291Z"
    },
    "papermill": {
     "duration": 72.383547,
     "end_time": "2020-12-24T17:24:19.061465",
     "exception": false,
     "start_time": "2020-12-24T17:23:06.677918",
     "status": "completed"
    },
    "tags": []
   },
   "outputs": [
    {
     "name": "stdout",
     "output_type": "stream",
     "text": [
      "[1]\tvalid_0's auc: 0.783092\n",
      "Training until validation scores don't improve for 10 rounds\n",
      "[2]\tvalid_0's auc: 0.84214\n",
      "[3]\tvalid_0's auc: 0.861219\n",
      "[4]\tvalid_0's auc: 0.874613\n",
      "[5]\tvalid_0's auc: 0.877839\n",
      "[6]\tvalid_0's auc: 0.884924\n",
      "[7]\tvalid_0's auc: 0.889691\n",
      "[8]\tvalid_0's auc: 0.890547\n",
      "[9]\tvalid_0's auc: 0.893395\n",
      "[10]\tvalid_0's auc: 0.892991\n",
      "[11]\tvalid_0's auc: 0.893584\n",
      "[12]\tvalid_0's auc: 0.894835\n",
      "[13]\tvalid_0's auc: 0.895268\n",
      "[14]\tvalid_0's auc: 0.895774\n",
      "[15]\tvalid_0's auc: 0.895769\n",
      "[16]\tvalid_0's auc: 0.896405\n",
      "[17]\tvalid_0's auc: 0.897059\n",
      "[18]\tvalid_0's auc: 0.897579\n",
      "[19]\tvalid_0's auc: 0.899455\n",
      "[20]\tvalid_0's auc: 0.900329\n",
      "[21]\tvalid_0's auc: 0.901626\n",
      "[22]\tvalid_0's auc: 0.902794\n",
      "[23]\tvalid_0's auc: 0.903408\n",
      "[24]\tvalid_0's auc: 0.904566\n",
      "[25]\tvalid_0's auc: 0.906046\n",
      "[26]\tvalid_0's auc: 0.90721\n",
      "[27]\tvalid_0's auc: 0.907912\n",
      "[28]\tvalid_0's auc: 0.907802\n",
      "[29]\tvalid_0's auc: 0.908702\n",
      "[30]\tvalid_0's auc: 0.908989\n",
      "[31]\tvalid_0's auc: 0.909595\n",
      "[32]\tvalid_0's auc: 0.909745\n",
      "[33]\tvalid_0's auc: 0.910031\n",
      "[34]\tvalid_0's auc: 0.910882\n",
      "[35]\tvalid_0's auc: 0.91148\n",
      "[36]\tvalid_0's auc: 0.912151\n",
      "[37]\tvalid_0's auc: 0.913136\n",
      "[38]\tvalid_0's auc: 0.913915\n",
      "[39]\tvalid_0's auc: 0.914295\n",
      "[40]\tvalid_0's auc: 0.915343\n",
      "[41]\tvalid_0's auc: 0.916305\n",
      "[42]\tvalid_0's auc: 0.917158\n",
      "[43]\tvalid_0's auc: 0.917423\n",
      "[44]\tvalid_0's auc: 0.918092\n",
      "[45]\tvalid_0's auc: 0.918734\n",
      "[46]\tvalid_0's auc: 0.919429\n",
      "[47]\tvalid_0's auc: 0.920148\n",
      "[48]\tvalid_0's auc: 0.920909\n",
      "[49]\tvalid_0's auc: 0.92152\n",
      "[50]\tvalid_0's auc: 0.92198\n",
      "[51]\tvalid_0's auc: 0.92241\n",
      "[52]\tvalid_0's auc: 0.923005\n",
      "[53]\tvalid_0's auc: 0.923413\n",
      "[54]\tvalid_0's auc: 0.923824\n",
      "[55]\tvalid_0's auc: 0.924233\n",
      "[56]\tvalid_0's auc: 0.924727\n",
      "[57]\tvalid_0's auc: 0.925279\n",
      "[58]\tvalid_0's auc: 0.925787\n",
      "[59]\tvalid_0's auc: 0.926529\n",
      "[60]\tvalid_0's auc: 0.926783\n",
      "[61]\tvalid_0's auc: 0.927296\n",
      "[62]\tvalid_0's auc: 0.928063\n",
      "[63]\tvalid_0's auc: 0.928735\n",
      "[64]\tvalid_0's auc: 0.929292\n",
      "[65]\tvalid_0's auc: 0.930003\n",
      "[66]\tvalid_0's auc: 0.93049\n",
      "[67]\tvalid_0's auc: 0.931133\n",
      "[68]\tvalid_0's auc: 0.931424\n",
      "[69]\tvalid_0's auc: 0.931839\n",
      "[70]\tvalid_0's auc: 0.932426\n",
      "[71]\tvalid_0's auc: 0.932774\n",
      "[72]\tvalid_0's auc: 0.932909\n",
      "[73]\tvalid_0's auc: 0.933261\n",
      "[74]\tvalid_0's auc: 0.933541\n",
      "[75]\tvalid_0's auc: 0.933716\n",
      "[76]\tvalid_0's auc: 0.934096\n",
      "[77]\tvalid_0's auc: 0.934273\n",
      "[78]\tvalid_0's auc: 0.934485\n",
      "[79]\tvalid_0's auc: 0.934682\n",
      "[80]\tvalid_0's auc: 0.934912\n",
      "[81]\tvalid_0's auc: 0.935309\n",
      "[82]\tvalid_0's auc: 0.935822\n",
      "[83]\tvalid_0's auc: 0.936294\n",
      "[84]\tvalid_0's auc: 0.9367\n",
      "[85]\tvalid_0's auc: 0.936941\n",
      "[86]\tvalid_0's auc: 0.937098\n",
      "[87]\tvalid_0's auc: 0.937478\n",
      "[88]\tvalid_0's auc: 0.937819\n",
      "[89]\tvalid_0's auc: 0.938205\n",
      "[90]\tvalid_0's auc: 0.938639\n",
      "[91]\tvalid_0's auc: 0.938898\n",
      "[92]\tvalid_0's auc: 0.939222\n",
      "[93]\tvalid_0's auc: 0.939412\n",
      "[94]\tvalid_0's auc: 0.939531\n",
      "[95]\tvalid_0's auc: 0.939712\n",
      "[96]\tvalid_0's auc: 0.939901\n",
      "[97]\tvalid_0's auc: 0.940018\n",
      "[98]\tvalid_0's auc: 0.940191\n",
      "[99]\tvalid_0's auc: 0.940452\n",
      "[100]\tvalid_0's auc: 0.940784\n",
      "[101]\tvalid_0's auc: 0.94113\n",
      "[102]\tvalid_0's auc: 0.941375\n",
      "[103]\tvalid_0's auc: 0.941759\n",
      "[104]\tvalid_0's auc: 0.94212\n",
      "[105]\tvalid_0's auc: 0.942593\n",
      "[106]\tvalid_0's auc: 0.942878\n",
      "[107]\tvalid_0's auc: 0.943084\n",
      "[108]\tvalid_0's auc: 0.943373\n",
      "[109]\tvalid_0's auc: 0.943667\n",
      "[110]\tvalid_0's auc: 0.94392\n",
      "[111]\tvalid_0's auc: 0.943956\n",
      "[112]\tvalid_0's auc: 0.944151\n",
      "[113]\tvalid_0's auc: 0.944369\n",
      "[114]\tvalid_0's auc: 0.944445\n",
      "[115]\tvalid_0's auc: 0.944627\n",
      "[116]\tvalid_0's auc: 0.944635\n",
      "[117]\tvalid_0's auc: 0.944818\n",
      "[118]\tvalid_0's auc: 0.944939\n",
      "[119]\tvalid_0's auc: 0.945036\n",
      "[120]\tvalid_0's auc: 0.945197\n",
      "[121]\tvalid_0's auc: 0.945559\n",
      "[122]\tvalid_0's auc: 0.945812\n",
      "[123]\tvalid_0's auc: 0.945949\n",
      "[124]\tvalid_0's auc: 0.946244\n",
      "[125]\tvalid_0's auc: 0.946465\n",
      "[126]\tvalid_0's auc: 0.946591\n",
      "[127]\tvalid_0's auc: 0.946757\n",
      "[128]\tvalid_0's auc: 0.946938\n",
      "[129]\tvalid_0's auc: 0.947117\n",
      "[130]\tvalid_0's auc: 0.947222\n",
      "[131]\tvalid_0's auc: 0.947374\n",
      "[132]\tvalid_0's auc: 0.947416\n",
      "[133]\tvalid_0's auc: 0.947536\n",
      "[134]\tvalid_0's auc: 0.947667\n",
      "[135]\tvalid_0's auc: 0.947893\n",
      "[136]\tvalid_0's auc: 0.947902\n",
      "[137]\tvalid_0's auc: 0.94808\n",
      "[138]\tvalid_0's auc: 0.948223\n",
      "[139]\tvalid_0's auc: 0.94838\n",
      "[140]\tvalid_0's auc: 0.948578\n",
      "[141]\tvalid_0's auc: 0.948696\n",
      "[142]\tvalid_0's auc: 0.948873\n",
      "[143]\tvalid_0's auc: 0.948938\n",
      "[144]\tvalid_0's auc: 0.949134\n",
      "[145]\tvalid_0's auc: 0.949311\n",
      "[146]\tvalid_0's auc: 0.949409\n",
      "[147]\tvalid_0's auc: 0.949501\n",
      "[148]\tvalid_0's auc: 0.949588\n",
      "[149]\tvalid_0's auc: 0.94967\n",
      "[150]\tvalid_0's auc: 0.949849\n",
      "[151]\tvalid_0's auc: 0.949904\n",
      "[152]\tvalid_0's auc: 0.950066\n",
      "[153]\tvalid_0's auc: 0.950157\n",
      "[154]\tvalid_0's auc: 0.950296\n",
      "[155]\tvalid_0's auc: 0.950287\n",
      "[156]\tvalid_0's auc: 0.950271\n",
      "[157]\tvalid_0's auc: 0.950299\n",
      "[158]\tvalid_0's auc: 0.950401\n",
      "[159]\tvalid_0's auc: 0.95046\n",
      "[160]\tvalid_0's auc: 0.950443\n",
      "[161]\tvalid_0's auc: 0.950571\n",
      "[162]\tvalid_0's auc: 0.950632\n",
      "[163]\tvalid_0's auc: 0.950799\n",
      "[164]\tvalid_0's auc: 0.950914\n",
      "[165]\tvalid_0's auc: 0.950976\n",
      "[166]\tvalid_0's auc: 0.951008\n",
      "[167]\tvalid_0's auc: 0.951131\n",
      "[168]\tvalid_0's auc: 0.951273\n",
      "[169]\tvalid_0's auc: 0.951412\n",
      "[170]\tvalid_0's auc: 0.951466\n",
      "[171]\tvalid_0's auc: 0.951538\n",
      "[172]\tvalid_0's auc: 0.951633\n",
      "[173]\tvalid_0's auc: 0.951721\n",
      "[174]\tvalid_0's auc: 0.951759\n",
      "[175]\tvalid_0's auc: 0.951817\n",
      "[176]\tvalid_0's auc: 0.951834\n",
      "[177]\tvalid_0's auc: 0.951864\n",
      "[178]\tvalid_0's auc: 0.951919\n",
      "[179]\tvalid_0's auc: 0.951996\n",
      "[180]\tvalid_0's auc: 0.95202\n",
      "[181]\tvalid_0's auc: 0.952129\n",
      "[182]\tvalid_0's auc: 0.952185\n",
      "[183]\tvalid_0's auc: 0.952244\n",
      "[184]\tvalid_0's auc: 0.952357\n",
      "[185]\tvalid_0's auc: 0.952404\n",
      "[186]\tvalid_0's auc: 0.952459\n",
      "[187]\tvalid_0's auc: 0.952548\n",
      "[188]\tvalid_0's auc: 0.952575\n",
      "[189]\tvalid_0's auc: 0.952579\n",
      "[190]\tvalid_0's auc: 0.952622\n",
      "[191]\tvalid_0's auc: 0.952612\n",
      "[192]\tvalid_0's auc: 0.952656\n",
      "[193]\tvalid_0's auc: 0.952684\n",
      "[194]\tvalid_0's auc: 0.95269\n",
      "[195]\tvalid_0's auc: 0.952738\n",
      "[196]\tvalid_0's auc: 0.952752\n",
      "[197]\tvalid_0's auc: 0.952874\n",
      "[198]\tvalid_0's auc: 0.952968\n",
      "[199]\tvalid_0's auc: 0.95298\n",
      "[200]\tvalid_0's auc: 0.953058\n",
      "[201]\tvalid_0's auc: 0.953042\n",
      "[202]\tvalid_0's auc: 0.953116\n",
      "[203]\tvalid_0's auc: 0.953232\n",
      "[204]\tvalid_0's auc: 0.95326\n",
      "[205]\tvalid_0's auc: 0.953282\n",
      "[206]\tvalid_0's auc: 0.953318\n",
      "[207]\tvalid_0's auc: 0.953383\n",
      "[208]\tvalid_0's auc: 0.953409\n",
      "[209]\tvalid_0's auc: 0.953405\n",
      "[210]\tvalid_0's auc: 0.953505\n",
      "[211]\tvalid_0's auc: 0.953539\n",
      "[212]\tvalid_0's auc: 0.953614\n",
      "[213]\tvalid_0's auc: 0.953666\n",
      "[214]\tvalid_0's auc: 0.953676\n",
      "[215]\tvalid_0's auc: 0.953744\n",
      "[216]\tvalid_0's auc: 0.953809\n",
      "[217]\tvalid_0's auc: 0.953838\n",
      "[218]\tvalid_0's auc: 0.953814\n",
      "[219]\tvalid_0's auc: 0.95383\n",
      "[220]\tvalid_0's auc: 0.953826\n",
      "[221]\tvalid_0's auc: 0.953968\n",
      "[222]\tvalid_0's auc: 0.954086\n",
      "[223]\tvalid_0's auc: 0.954196\n",
      "[224]\tvalid_0's auc: 0.954245\n",
      "[225]\tvalid_0's auc: 0.954302\n",
      "[226]\tvalid_0's auc: 0.954397\n",
      "[227]\tvalid_0's auc: 0.954471\n",
      "[228]\tvalid_0's auc: 0.954548\n",
      "[229]\tvalid_0's auc: 0.95462\n",
      "[230]\tvalid_0's auc: 0.954673\n",
      "[231]\tvalid_0's auc: 0.954754\n",
      "[232]\tvalid_0's auc: 0.954796\n",
      "[233]\tvalid_0's auc: 0.954871\n",
      "[234]\tvalid_0's auc: 0.954892\n",
      "[235]\tvalid_0's auc: 0.954957\n",
      "[236]\tvalid_0's auc: 0.954992\n",
      "[237]\tvalid_0's auc: 0.955002\n",
      "[238]\tvalid_0's auc: 0.955062\n",
      "[239]\tvalid_0's auc: 0.955022\n",
      "[240]\tvalid_0's auc: 0.955086\n",
      "[241]\tvalid_0's auc: 0.955127\n",
      "[242]\tvalid_0's auc: 0.955191\n",
      "[243]\tvalid_0's auc: 0.955251\n",
      "[244]\tvalid_0's auc: 0.955333\n",
      "[245]\tvalid_0's auc: 0.955451\n",
      "[246]\tvalid_0's auc: 0.955491\n",
      "[247]\tvalid_0's auc: 0.955573\n",
      "[248]\tvalid_0's auc: 0.955613\n",
      "[249]\tvalid_0's auc: 0.955644\n",
      "[250]\tvalid_0's auc: 0.955658\n",
      "[251]\tvalid_0's auc: 0.955709\n",
      "[252]\tvalid_0's auc: 0.955771\n",
      "[253]\tvalid_0's auc: 0.95583\n",
      "[254]\tvalid_0's auc: 0.955892\n",
      "[255]\tvalid_0's auc: 0.955915\n",
      "[256]\tvalid_0's auc: 0.95601\n",
      "[257]\tvalid_0's auc: 0.956023\n",
      "[258]\tvalid_0's auc: 0.956008\n",
      "[259]\tvalid_0's auc: 0.956102\n",
      "[260]\tvalid_0's auc: 0.95614\n",
      "[261]\tvalid_0's auc: 0.956195\n",
      "[262]\tvalid_0's auc: 0.956311\n",
      "[263]\tvalid_0's auc: 0.956321\n",
      "[264]\tvalid_0's auc: 0.95642\n",
      "[265]\tvalid_0's auc: 0.95646\n",
      "[266]\tvalid_0's auc: 0.956472\n",
      "[267]\tvalid_0's auc: 0.956436\n",
      "[268]\tvalid_0's auc: 0.956454\n",
      "[269]\tvalid_0's auc: 0.956496\n",
      "[270]\tvalid_0's auc: 0.956584\n",
      "[271]\tvalid_0's auc: 0.956627\n",
      "[272]\tvalid_0's auc: 0.956621\n",
      "[273]\tvalid_0's auc: 0.956651\n",
      "[274]\tvalid_0's auc: 0.956674\n",
      "[275]\tvalid_0's auc: 0.956708\n",
      "[276]\tvalid_0's auc: 0.956734\n",
      "[277]\tvalid_0's auc: 0.956792\n",
      "[278]\tvalid_0's auc: 0.956803\n",
      "[279]\tvalid_0's auc: 0.956883\n",
      "[280]\tvalid_0's auc: 0.95693\n",
      "[281]\tvalid_0's auc: 0.956964\n",
      "[282]\tvalid_0's auc: 0.957007\n",
      "[283]\tvalid_0's auc: 0.957083\n",
      "[284]\tvalid_0's auc: 0.95707\n",
      "[285]\tvalid_0's auc: 0.957124\n",
      "[286]\tvalid_0's auc: 0.957207\n",
      "[287]\tvalid_0's auc: 0.957244\n",
      "[288]\tvalid_0's auc: 0.957306\n",
      "[289]\tvalid_0's auc: 0.957349\n",
      "[290]\tvalid_0's auc: 0.957408\n",
      "[291]\tvalid_0's auc: 0.957445\n",
      "[292]\tvalid_0's auc: 0.957502\n",
      "[293]\tvalid_0's auc: 0.95758\n",
      "[294]\tvalid_0's auc: 0.957599\n",
      "[295]\tvalid_0's auc: 0.957609\n",
      "[296]\tvalid_0's auc: 0.957614\n",
      "[297]\tvalid_0's auc: 0.957632\n",
      "[298]\tvalid_0's auc: 0.957682\n",
      "[299]\tvalid_0's auc: 0.957702\n",
      "[300]\tvalid_0's auc: 0.957733\n",
      "[301]\tvalid_0's auc: 0.957814\n",
      "[302]\tvalid_0's auc: 0.957865\n",
      "[303]\tvalid_0's auc: 0.957903\n",
      "[304]\tvalid_0's auc: 0.957921\n",
      "[305]\tvalid_0's auc: 0.95791\n",
      "[306]\tvalid_0's auc: 0.95795\n",
      "[307]\tvalid_0's auc: 0.957935\n",
      "[308]\tvalid_0's auc: 0.957934\n",
      "[309]\tvalid_0's auc: 0.957971\n",
      "[310]\tvalid_0's auc: 0.958039\n",
      "[311]\tvalid_0's auc: 0.95808\n",
      "[312]\tvalid_0's auc: 0.958136\n",
      "[313]\tvalid_0's auc: 0.958162\n",
      "[314]\tvalid_0's auc: 0.958157\n",
      "[315]\tvalid_0's auc: 0.958151\n",
      "[316]\tvalid_0's auc: 0.958165\n",
      "[317]\tvalid_0's auc: 0.958181\n",
      "[318]\tvalid_0's auc: 0.958215\n",
      "[319]\tvalid_0's auc: 0.958195\n",
      "[320]\tvalid_0's auc: 0.958216\n",
      "[321]\tvalid_0's auc: 0.958264\n",
      "[322]\tvalid_0's auc: 0.958296\n",
      "[323]\tvalid_0's auc: 0.958379\n",
      "[324]\tvalid_0's auc: 0.958453\n",
      "[325]\tvalid_0's auc: 0.958499\n",
      "[326]\tvalid_0's auc: 0.958549\n",
      "[327]\tvalid_0's auc: 0.958597\n",
      "[328]\tvalid_0's auc: 0.95862\n",
      "[329]\tvalid_0's auc: 0.958657\n",
      "[330]\tvalid_0's auc: 0.958716\n",
      "[331]\tvalid_0's auc: 0.958747\n",
      "[332]\tvalid_0's auc: 0.958805\n",
      "[333]\tvalid_0's auc: 0.958825\n",
      "[334]\tvalid_0's auc: 0.958834\n",
      "[335]\tvalid_0's auc: 0.958848\n",
      "[336]\tvalid_0's auc: 0.95889\n",
      "[337]\tvalid_0's auc: 0.958881\n",
      "[338]\tvalid_0's auc: 0.958905\n",
      "[339]\tvalid_0's auc: 0.958919\n",
      "[340]\tvalid_0's auc: 0.958963\n",
      "[341]\tvalid_0's auc: 0.959018\n",
      "[342]\tvalid_0's auc: 0.959014\n",
      "[343]\tvalid_0's auc: 0.959012\n",
      "[344]\tvalid_0's auc: 0.959021\n",
      "[345]\tvalid_0's auc: 0.958992\n",
      "[346]\tvalid_0's auc: 0.958932\n",
      "[347]\tvalid_0's auc: 0.958981\n",
      "[348]\tvalid_0's auc: 0.959007\n",
      "[349]\tvalid_0's auc: 0.958992\n",
      "[350]\tvalid_0's auc: 0.958951\n",
      "[351]\tvalid_0's auc: 0.958946\n",
      "[352]\tvalid_0's auc: 0.958914\n",
      "[353]\tvalid_0's auc: 0.958843\n",
      "[354]\tvalid_0's auc: 0.958838\n",
      "Early stopping, best iteration is:\n",
      "[344]\tvalid_0's auc: 0.959021\n"
     ]
    }
   ],
   "source": [
    "import lightgbm \n",
    "\n",
    "parameters = {\n",
    "    'application': 'binary',\n",
    "    'objective': 'binary',\n",
    "    'metric': 'auc',\n",
    "    'is_unbalance': 'true',\n",
    "    'boosting': 'gbdt',\n",
    "    'num_leaves': 31,\n",
    "    'feature_fraction': 0.5,\n",
    "    'bagging_fraction': 0.5,\n",
    "    'bagging_freq': 20,\n",
    "    'learning_rate': 0.05,\n",
    "    'verbose': 0\n",
    "}\n",
    "\n",
    "train_data = lightgbm.Dataset(X_train_dtm, label=y_train)\n",
    "test_data = lightgbm.Dataset(X_test_dtm, label=y_test)\n",
    "\n",
    "clf = lightgbm.train(parameters,\n",
    "                       train_data,\n",
    "                       valid_sets=test_data,\n",
    "                       num_boost_round=500,\n",
    "                       early_stopping_rounds=10)\n",
    "\n",
    "\n",
    "\n",
    "\n"
   ]
  },
  {
   "cell_type": "code",
   "execution_count": 41,
   "metadata": {
    "execution": {
     "iopub.execute_input": "2020-12-24T17:24:19.331345Z",
     "iopub.status.busy": "2020-12-24T17:24:19.330653Z",
     "iopub.status.idle": "2020-12-24T17:24:19.858479Z",
     "shell.execute_reply": "2020-12-24T17:24:19.859126Z"
    },
    "papermill": {
     "duration": 0.652848,
     "end_time": "2020-12-24T17:24:19.859277",
     "exception": false,
     "start_time": "2020-12-24T17:24:19.206429",
     "status": "completed"
    },
    "tags": []
   },
   "outputs": [
    {
     "name": "stdout",
     "output_type": "stream",
     "text": [
      "Test accuracy is 0.8930910230299233\n",
      "[[25598  3073]\n",
      " [  339  2905]]\n",
      "F1 score on Test data :  0.6300151810887009\n"
     ]
    }
   ],
   "source": [
    "# Fine Tuning LIGHT GBM\n",
    "\n",
    "y_pred_test = clf.predict(X_test_dtm)\n",
    "y_pred_test = y_pred_test >= 0.35 # by default it is 0.5\n",
    "y_pred_test = y_pred_test.astype(int)\n",
    "print('Test accuracy is {}'.format(accuracy_score(y_test,y_pred_test)))\n",
    "print(confusion_matrix(y_test,y_pred_test))\n",
    "print(\"F1 score on Test data : \" ,f1_score(y_test,y_pred_test))"
   ]
  },
  {
   "cell_type": "markdown",
   "metadata": {
    "papermill": {
     "duration": 0.113431,
     "end_time": "2020-12-24T17:24:20.111610",
     "exception": false,
     "start_time": "2020-12-24T17:24:19.998179",
     "status": "completed"
    },
    "tags": []
   },
   "source": [
    "## Model Explanation ##"
   ]
  },
  {
   "cell_type": "code",
   "execution_count": 42,
   "metadata": {
    "execution": {
     "iopub.execute_input": "2020-12-24T17:24:20.336828Z",
     "iopub.status.busy": "2020-12-24T17:24:20.336255Z",
     "iopub.status.idle": "2020-12-24T17:24:25.864532Z",
     "shell.execute_reply": "2020-12-24T17:24:25.863893Z"
    },
    "papermill": {
     "duration": 5.642418,
     "end_time": "2020-12-24T17:24:25.864647",
     "exception": false,
     "start_time": "2020-12-24T17:24:20.222229",
     "status": "completed"
    },
    "tags": []
   },
   "outputs": [
    {
     "name": "stderr",
     "output_type": "stream",
     "text": [
      "/opt/conda/lib/python3.7/site-packages/sklearn/utils/deprecation.py:143: FutureWarning: The sklearn.metrics.scorer module is  deprecated in version 0.22 and will be removed in version 0.24. The corresponding classes / functions should instead be imported from sklearn.metrics. Anything that cannot be imported from sklearn.metrics is now part of the private API.\n",
      "  warnings.warn(message, FutureWarning)\n",
      "/opt/conda/lib/python3.7/site-packages/sklearn/utils/deprecation.py:143: FutureWarning: The sklearn.feature_selection.base module is  deprecated in version 0.22 and will be removed in version 0.24. The corresponding classes / functions should instead be imported from sklearn.feature_selection. Anything that cannot be imported from sklearn.feature_selection is now part of the private API.\n",
      "  warnings.warn(message, FutureWarning)\n"
     ]
    },
    {
     "data": {
      "text/html": [
       "\n",
       "    <style>\n",
       "    table.eli5-weights tr:hover {\n",
       "        filter: brightness(85%);\n",
       "    }\n",
       "</style>\n",
       "\n",
       "\n",
       "\n",
       "    \n",
       "\n",
       "    \n",
       "\n",
       "    \n",
       "\n",
       "    \n",
       "\n",
       "    \n",
       "\n",
       "    \n",
       "\n",
       "\n",
       "    \n",
       "\n",
       "    \n",
       "\n",
       "    \n",
       "\n",
       "    \n",
       "        \n",
       "\n",
       "    \n",
       "\n",
       "        \n",
       "            \n",
       "                \n",
       "                \n",
       "    \n",
       "        <p style=\"margin-bottom: 0.5em; margin-top: 0em\">\n",
       "            <b>\n",
       "    \n",
       "        y=1\n",
       "    \n",
       "</b>\n",
       "\n",
       "top features\n",
       "        </p>\n",
       "    \n",
       "    <table class=\"eli5-weights\"\n",
       "           style=\"border-collapse: collapse; border: none; margin-top: 0em; table-layout: auto; margin-bottom: 2em;\">\n",
       "        <thead>\n",
       "        <tr style=\"border: none;\">\n",
       "            \n",
       "                <th style=\"padding: 0 1em 0 0.5em; text-align: right; border: none;\" title=\"Feature weights. Note that weights do not account for feature value scales, so if feature values have different scales, features with highest weights might not be the most important.\">\n",
       "                    Weight<sup>?</sup>\n",
       "                </th>\n",
       "            \n",
       "            <th style=\"padding: 0 0.5em 0 0.5em; text-align: left; border: none;\">Feature</th>\n",
       "            \n",
       "        </tr>\n",
       "        </thead>\n",
       "        <tbody>\n",
       "        \n",
       "            <tr style=\"background-color: hsl(120, 100.00%, 80.00%); border: none;\">\n",
       "    <td style=\"padding: 0 1em 0 0.5em; text-align: right; border: none;\">\n",
       "        +16.643\n",
       "    </td>\n",
       "    <td style=\"padding: 0 0.5em 0 0.5em; text-align: left; border: none;\">\n",
       "        fuck\n",
       "    </td>\n",
       "    \n",
       "</tr>\n",
       "        \n",
       "            <tr style=\"background-color: hsl(120, 100.00%, 82.75%); border: none;\">\n",
       "    <td style=\"padding: 0 1em 0 0.5em; text-align: right; border: none;\">\n",
       "        +13.475\n",
       "    </td>\n",
       "    <td style=\"padding: 0 0.5em 0 0.5em; text-align: left; border: none;\">\n",
       "        fucking\n",
       "    </td>\n",
       "    \n",
       "</tr>\n",
       "        \n",
       "            <tr style=\"background-color: hsl(120, 100.00%, 83.98%); border: none;\">\n",
       "    <td style=\"padding: 0 1em 0 0.5em; text-align: right; border: none;\">\n",
       "        +12.117\n",
       "    </td>\n",
       "    <td style=\"padding: 0 0.5em 0 0.5em; text-align: left; border: none;\">\n",
       "        shit\n",
       "    </td>\n",
       "    \n",
       "</tr>\n",
       "        \n",
       "            <tr style=\"background-color: hsl(120, 100.00%, 84.40%); border: none;\">\n",
       "    <td style=\"padding: 0 1em 0 0.5em; text-align: right; border: none;\">\n",
       "        +11.670\n",
       "    </td>\n",
       "    <td style=\"padding: 0 0.5em 0 0.5em; text-align: left; border: none;\">\n",
       "        idiot\n",
       "    </td>\n",
       "    \n",
       "</tr>\n",
       "        \n",
       "            <tr style=\"background-color: hsl(120, 100.00%, 85.01%); border: none;\">\n",
       "    <td style=\"padding: 0 1em 0 0.5em; text-align: right; border: none;\">\n",
       "        +11.024\n",
       "    </td>\n",
       "    <td style=\"padding: 0 0.5em 0 0.5em; text-align: left; border: none;\">\n",
       "        stupid\n",
       "    </td>\n",
       "    \n",
       "</tr>\n",
       "        \n",
       "            <tr style=\"background-color: hsl(120, 100.00%, 85.64%); border: none;\">\n",
       "    <td style=\"padding: 0 1em 0 0.5em; text-align: right; border: none;\">\n",
       "        +10.370\n",
       "    </td>\n",
       "    <td style=\"padding: 0 0.5em 0 0.5em; text-align: left; border: none;\">\n",
       "        ass\n",
       "    </td>\n",
       "    \n",
       "</tr>\n",
       "        \n",
       "            <tr style=\"background-color: hsl(120, 100.00%, 86.76%); border: none;\">\n",
       "    <td style=\"padding: 0 1em 0 0.5em; text-align: right; border: none;\">\n",
       "        +9.229\n",
       "    </td>\n",
       "    <td style=\"padding: 0 0.5em 0 0.5em; text-align: left; border: none;\">\n",
       "        asshole\n",
       "    </td>\n",
       "    \n",
       "</tr>\n",
       "        \n",
       "            <tr style=\"background-color: hsl(120, 100.00%, 87.09%); border: none;\">\n",
       "    <td style=\"padding: 0 1em 0 0.5em; text-align: right; border: none;\">\n",
       "        +8.903\n",
       "    </td>\n",
       "    <td style=\"padding: 0 0.5em 0 0.5em; text-align: left; border: none;\">\n",
       "        bullshit\n",
       "    </td>\n",
       "    \n",
       "</tr>\n",
       "        \n",
       "            <tr style=\"background-color: hsl(120, 100.00%, 87.22%); border: none;\">\n",
       "    <td style=\"padding: 0 1em 0 0.5em; text-align: right; border: none;\">\n",
       "        +8.776\n",
       "    </td>\n",
       "    <td style=\"padding: 0 0.5em 0 0.5em; text-align: left; border: none;\">\n",
       "        suck\n",
       "    </td>\n",
       "    \n",
       "</tr>\n",
       "        \n",
       "            <tr style=\"background-color: hsl(120, 100.00%, 87.31%); border: none;\">\n",
       "    <td style=\"padding: 0 1em 0 0.5em; text-align: right; border: none;\">\n",
       "        +8.692\n",
       "    </td>\n",
       "    <td style=\"padding: 0 0.5em 0 0.5em; text-align: left; border: none;\">\n",
       "        bitch\n",
       "    </td>\n",
       "    \n",
       "</tr>\n",
       "        \n",
       "            <tr style=\"background-color: hsl(120, 100.00%, 87.82%); border: none;\">\n",
       "    <td style=\"padding: 0 1em 0 0.5em; text-align: right; border: none;\">\n",
       "        +8.193\n",
       "    </td>\n",
       "    <td style=\"padding: 0 0.5em 0 0.5em; text-align: left; border: none;\">\n",
       "        crap\n",
       "    </td>\n",
       "    \n",
       "</tr>\n",
       "        \n",
       "            <tr style=\"background-color: hsl(120, 100.00%, 88.54%); border: none;\">\n",
       "    <td style=\"padding: 0 1em 0 0.5em; text-align: right; border: none;\">\n",
       "        +7.511\n",
       "    </td>\n",
       "    <td style=\"padding: 0 0.5em 0 0.5em; text-align: left; border: none;\">\n",
       "        dick\n",
       "    </td>\n",
       "    \n",
       "</tr>\n",
       "        \n",
       "            <tr style=\"background-color: hsl(120, 100.00%, 88.57%); border: none;\">\n",
       "    <td style=\"padding: 0 1em 0 0.5em; text-align: right; border: none;\">\n",
       "        +7.482\n",
       "    </td>\n",
       "    <td style=\"padding: 0 0.5em 0 0.5em; text-align: left; border: none;\">\n",
       "        faggot\n",
       "    </td>\n",
       "    \n",
       "</tr>\n",
       "        \n",
       "            <tr style=\"background-color: hsl(120, 100.00%, 88.60%); border: none;\">\n",
       "    <td style=\"padding: 0 1em 0 0.5em; text-align: right; border: none;\">\n",
       "        +7.460\n",
       "    </td>\n",
       "    <td style=\"padding: 0 0.5em 0 0.5em; text-align: left; border: none;\">\n",
       "        cunt\n",
       "    </td>\n",
       "    \n",
       "</tr>\n",
       "        \n",
       "            <tr style=\"background-color: hsl(120, 100.00%, 88.70%); border: none;\">\n",
       "    <td style=\"padding: 0 1em 0 0.5em; text-align: right; border: none;\">\n",
       "        +7.364\n",
       "    </td>\n",
       "    <td style=\"padding: 0 0.5em 0 0.5em; text-align: left; border: none;\">\n",
       "        moron\n",
       "    </td>\n",
       "    \n",
       "</tr>\n",
       "        \n",
       "        \n",
       "            <tr style=\"background-color: hsl(120, 100.00%, 88.70%); border: none;\">\n",
       "                <td colspan=\"2\" style=\"padding: 0 0.5em 0 0.5em; text-align: center; border: none; white-space: nowrap;\">\n",
       "                    <i>&hellip; 3601 more positive &hellip;</i>\n",
       "                </td>\n",
       "            </tr>\n",
       "        \n",
       "\n",
       "        \n",
       "            <tr style=\"background-color: hsl(0, 100.00%, 80.00%); border: none;\">\n",
       "                <td colspan=\"2\" style=\"padding: 0 0.5em 0 0.5em; text-align: center; border: none; white-space: nowrap;\">\n",
       "                    <i>&hellip; 6385 more negative &hellip;</i>\n",
       "                </td>\n",
       "            </tr>\n",
       "        \n",
       "        \n",
       "\n",
       "        </tbody>\n",
       "    </table>\n",
       "\n",
       "            \n",
       "        \n",
       "\n",
       "        \n",
       "\n",
       "\n",
       "\n",
       "    \n",
       "\n",
       "    \n",
       "\n",
       "    \n",
       "\n",
       "    \n",
       "\n",
       "\n",
       "    \n",
       "\n",
       "    \n",
       "\n",
       "    \n",
       "\n",
       "    \n",
       "\n",
       "    \n",
       "\n",
       "    \n",
       "\n",
       "\n",
       "    \n",
       "\n",
       "    \n",
       "\n",
       "    \n",
       "\n",
       "    \n",
       "\n",
       "    \n",
       "\n",
       "    \n",
       "\n",
       "\n",
       "\n"
      ],
      "text/plain": [
       "<IPython.core.display.HTML object>"
      ]
     },
     "execution_count": 42,
     "metadata": {},
     "output_type": "execute_result"
    }
   ],
   "source": [
    "import eli5\n",
    "\n",
    "eli5.show_weights(logreg,vec = vect, top = 15)  # logistic regression\n",
    "# will give you top 15 features or words  which makes a comment toxic "
   ]
  },
  {
   "cell_type": "code",
   "execution_count": 43,
   "metadata": {
    "execution": {
     "iopub.execute_input": "2020-12-24T17:24:26.109632Z",
     "iopub.status.busy": "2020-12-24T17:24:26.108924Z",
     "iopub.status.idle": "2020-12-24T17:24:26.180275Z",
     "shell.execute_reply": "2020-12-24T17:24:26.179803Z"
    },
    "papermill": {
     "duration": 0.20082,
     "end_time": "2020-12-24T17:24:26.180378",
     "exception": false,
     "start_time": "2020-12-24T17:24:25.979558",
     "status": "completed"
    },
    "tags": []
   },
   "outputs": [
    {
     "data": {
      "text/html": [
       "\n",
       "    <style>\n",
       "    table.eli5-weights tr:hover {\n",
       "        filter: brightness(85%);\n",
       "    }\n",
       "</style>\n",
       "\n",
       "\n",
       "\n",
       "    \n",
       "\n",
       "    \n",
       "\n",
       "    \n",
       "\n",
       "    \n",
       "\n",
       "    \n",
       "\n",
       "    \n",
       "\n",
       "\n",
       "    \n",
       "\n",
       "    \n",
       "\n",
       "    \n",
       "\n",
       "    \n",
       "\n",
       "    \n",
       "\n",
       "    \n",
       "\n",
       "\n",
       "    \n",
       "\n",
       "    \n",
       "\n",
       "    \n",
       "\n",
       "    \n",
       "\n",
       "    \n",
       "        <table class=\"eli5-weights eli5-feature-importances\" style=\"border-collapse: collapse; border: none; margin-top: 0em; table-layout: auto;\">\n",
       "    <thead>\n",
       "    <tr style=\"border: none;\">\n",
       "        <th style=\"padding: 0 1em 0 0.5em; text-align: right; border: none;\">Weight</th>\n",
       "        <th style=\"padding: 0 0.5em 0 0.5em; text-align: left; border: none;\">Feature</th>\n",
       "    </tr>\n",
       "    </thead>\n",
       "    <tbody>\n",
       "    \n",
       "        <tr style=\"background-color: hsl(120, 100.00%, 80.00%); border: none;\">\n",
       "            <td style=\"padding: 0 1em 0 0.5em; text-align: right; border: none;\">\n",
       "                0.0273\n",
       "                \n",
       "            </td>\n",
       "            <td style=\"padding: 0 0.5em 0 0.5em; text-align: left; border: none;\">\n",
       "                fuck\n",
       "            </td>\n",
       "        </tr>\n",
       "    \n",
       "        <tr style=\"background-color: hsl(120, 100.00%, 86.68%); border: none;\">\n",
       "            <td style=\"padding: 0 1em 0 0.5em; text-align: right; border: none;\">\n",
       "                0.0153\n",
       "                \n",
       "            </td>\n",
       "            <td style=\"padding: 0 0.5em 0 0.5em; text-align: left; border: none;\">\n",
       "                fucking\n",
       "            </td>\n",
       "        </tr>\n",
       "    \n",
       "        <tr style=\"background-color: hsl(120, 100.00%, 88.25%); border: none;\">\n",
       "            <td style=\"padding: 0 1em 0 0.5em; text-align: right; border: none;\">\n",
       "                0.0128\n",
       "                \n",
       "            </td>\n",
       "            <td style=\"padding: 0 0.5em 0 0.5em; text-align: left; border: none;\">\n",
       "                faggot\n",
       "            </td>\n",
       "        </tr>\n",
       "    \n",
       "        <tr style=\"background-color: hsl(120, 100.00%, 88.26%); border: none;\">\n",
       "            <td style=\"padding: 0 1em 0 0.5em; text-align: right; border: none;\">\n",
       "                0.0128\n",
       "                \n",
       "            </td>\n",
       "            <td style=\"padding: 0 0.5em 0 0.5em; text-align: left; border: none;\">\n",
       "                dick\n",
       "            </td>\n",
       "        </tr>\n",
       "    \n",
       "        <tr style=\"background-color: hsl(120, 100.00%, 88.38%); border: none;\">\n",
       "            <td style=\"padding: 0 1em 0 0.5em; text-align: right; border: none;\">\n",
       "                0.0126\n",
       "                \n",
       "            </td>\n",
       "            <td style=\"padding: 0 0.5em 0 0.5em; text-align: left; border: none;\">\n",
       "                suck\n",
       "            </td>\n",
       "        </tr>\n",
       "    \n",
       "        <tr style=\"background-color: hsl(120, 100.00%, 89.15%); border: none;\">\n",
       "            <td style=\"padding: 0 1em 0 0.5em; text-align: right; border: none;\">\n",
       "                0.0114\n",
       "                \n",
       "            </td>\n",
       "            <td style=\"padding: 0 0.5em 0 0.5em; text-align: left; border: none;\">\n",
       "                asshole\n",
       "            </td>\n",
       "        </tr>\n",
       "    \n",
       "        <tr style=\"background-color: hsl(120, 100.00%, 89.73%); border: none;\">\n",
       "            <td style=\"padding: 0 1em 0 0.5em; text-align: right; border: none;\">\n",
       "                0.0105\n",
       "                \n",
       "            </td>\n",
       "            <td style=\"padding: 0 0.5em 0 0.5em; text-align: left; border: none;\">\n",
       "                penis\n",
       "            </td>\n",
       "        </tr>\n",
       "    \n",
       "        <tr style=\"background-color: hsl(120, 100.00%, 89.75%); border: none;\">\n",
       "            <td style=\"padding: 0 1em 0 0.5em; text-align: right; border: none;\">\n",
       "                0.0105\n",
       "                \n",
       "            </td>\n",
       "            <td style=\"padding: 0 0.5em 0 0.5em; text-align: left; border: none;\">\n",
       "                fat\n",
       "            </td>\n",
       "        </tr>\n",
       "    \n",
       "        <tr style=\"background-color: hsl(120, 100.00%, 89.87%); border: none;\">\n",
       "            <td style=\"padding: 0 1em 0 0.5em; text-align: right; border: none;\">\n",
       "                0.0103\n",
       "                \n",
       "            </td>\n",
       "            <td style=\"padding: 0 0.5em 0 0.5em; text-align: left; border: none;\">\n",
       "                bitch\n",
       "            </td>\n",
       "        </tr>\n",
       "    \n",
       "        <tr style=\"background-color: hsl(120, 100.00%, 89.97%); border: none;\">\n",
       "            <td style=\"padding: 0 1em 0 0.5em; text-align: right; border: none;\">\n",
       "                0.0102\n",
       "                \n",
       "            </td>\n",
       "            <td style=\"padding: 0 0.5em 0 0.5em; text-align: left; border: none;\">\n",
       "                shit\n",
       "            </td>\n",
       "        </tr>\n",
       "    \n",
       "        <tr style=\"background-color: hsl(120, 100.00%, 90.64%); border: none;\">\n",
       "            <td style=\"padding: 0 1em 0 0.5em; text-align: right; border: none;\">\n",
       "                0.0092\n",
       "                \n",
       "            </td>\n",
       "            <td style=\"padding: 0 0.5em 0 0.5em; text-align: left; border: none;\">\n",
       "                cunt\n",
       "            </td>\n",
       "        </tr>\n",
       "    \n",
       "        <tr style=\"background-color: hsl(120, 100.00%, 91.19%); border: none;\">\n",
       "            <td style=\"padding: 0 1em 0 0.5em; text-align: right; border: none;\">\n",
       "                0.0085\n",
       "                \n",
       "            </td>\n",
       "            <td style=\"padding: 0 0.5em 0 0.5em; text-align: left; border: none;\">\n",
       "                loser\n",
       "            </td>\n",
       "        </tr>\n",
       "    \n",
       "        <tr style=\"background-color: hsl(120, 100.00%, 91.30%); border: none;\">\n",
       "            <td style=\"padding: 0 1em 0 0.5em; text-align: right; border: none;\">\n",
       "                0.0083\n",
       "                \n",
       "            </td>\n",
       "            <td style=\"padding: 0 0.5em 0 0.5em; text-align: left; border: none;\">\n",
       "                jerk\n",
       "            </td>\n",
       "        </tr>\n",
       "    \n",
       "        <tr style=\"background-color: hsl(120, 100.00%, 91.39%); border: none;\">\n",
       "            <td style=\"padding: 0 1em 0 0.5em; text-align: right; border: none;\">\n",
       "                0.0082\n",
       "                \n",
       "            </td>\n",
       "            <td style=\"padding: 0 0.5em 0 0.5em; text-align: left; border: none;\">\n",
       "                idiot\n",
       "            </td>\n",
       "        </tr>\n",
       "    \n",
       "        <tr style=\"background-color: hsl(120, 100.00%, 91.89%); border: none;\">\n",
       "            <td style=\"padding: 0 1em 0 0.5em; text-align: right; border: none;\">\n",
       "                0.0075\n",
       "                \n",
       "            </td>\n",
       "            <td style=\"padding: 0 0.5em 0 0.5em; text-align: left; border: none;\">\n",
       "                moron\n",
       "            </td>\n",
       "        </tr>\n",
       "    \n",
       "    \n",
       "        \n",
       "            <tr style=\"background-color: hsl(120, 100.00%, 91.89%); border: none;\">\n",
       "                <td colspan=\"2\" style=\"padding: 0 0.5em 0 0.5em; text-align: center; border: none; white-space: nowrap;\">\n",
       "                    <i>&hellip; 9985 more &hellip;</i>\n",
       "                </td>\n",
       "            </tr>\n",
       "        \n",
       "    \n",
       "    </tbody>\n",
       "</table>\n",
       "    \n",
       "\n",
       "    \n",
       "\n",
       "\n",
       "    \n",
       "\n",
       "    \n",
       "\n",
       "    \n",
       "\n",
       "    \n",
       "\n",
       "    \n",
       "\n",
       "    \n",
       "\n",
       "\n",
       "\n"
      ],
      "text/plain": [
       "<IPython.core.display.HTML object>"
      ]
     },
     "execution_count": 43,
     "metadata": {},
     "output_type": "execute_result"
    }
   ],
   "source": [
    "eli5.show_weights(xgb,vec = vect,top = 15)  # XGBoost\n",
    "# will give you top 15 features or words  which makes a comment toxic "
   ]
  },
  {
   "cell_type": "markdown",
   "metadata": {
    "papermill": {
     "duration": 0.109165,
     "end_time": "2020-12-24T17:24:26.401100",
     "exception": false,
     "start_time": "2020-12-24T17:24:26.291935",
     "status": "completed"
    },
    "tags": []
   },
   "source": [
    "## Tweets Explanation ##"
   ]
  },
  {
   "cell_type": "code",
   "execution_count": 44,
   "metadata": {
    "execution": {
     "iopub.execute_input": "2020-12-24T17:24:26.636545Z",
     "iopub.status.busy": "2020-12-24T17:24:26.635995Z",
     "iopub.status.idle": "2020-12-24T17:24:26.640608Z",
     "shell.execute_reply": "2020-12-24T17:24:26.640032Z"
    },
    "papermill": {
     "duration": 0.124614,
     "end_time": "2020-12-24T17:24:26.640705",
     "exception": false,
     "start_time": "2020-12-24T17:24:26.516091",
     "status": "completed"
    },
    "tags": []
   },
   "outputs": [
    {
     "data": {
      "text/plain": [
       "'by the way the exchange between rjensen is jpgordon is a sock puppet conversation pathetic really 129 133 127 244'"
      ]
     },
     "execution_count": 44,
     "metadata": {},
     "output_type": "execute_result"
    }
   ],
   "source": [
    "X_test.iloc[718]"
   ]
  },
  {
   "cell_type": "code",
   "execution_count": 45,
   "metadata": {
    "execution": {
     "iopub.execute_input": "2020-12-24T17:24:26.917527Z",
     "iopub.status.busy": "2020-12-24T17:24:26.916780Z",
     "iopub.status.idle": "2020-12-24T17:24:26.919835Z",
     "shell.execute_reply": "2020-12-24T17:24:26.920479Z"
    },
    "papermill": {
     "duration": 0.16317,
     "end_time": "2020-12-24T17:24:26.920617",
     "exception": false,
     "start_time": "2020-12-24T17:24:26.757447",
     "status": "completed"
    },
    "tags": []
   },
   "outputs": [
    {
     "data": {
      "text/html": [
       "\n",
       "    <style>\n",
       "    table.eli5-weights tr:hover {\n",
       "        filter: brightness(85%);\n",
       "    }\n",
       "</style>\n",
       "\n",
       "\n",
       "\n",
       "    \n",
       "\n",
       "    \n",
       "\n",
       "    \n",
       "\n",
       "    \n",
       "\n",
       "    \n",
       "\n",
       "    \n",
       "\n",
       "\n",
       "    \n",
       "\n",
       "    \n",
       "\n",
       "    \n",
       "\n",
       "    \n",
       "        \n",
       "\n",
       "    \n",
       "\n",
       "        \n",
       "            \n",
       "                \n",
       "                \n",
       "    \n",
       "        <p style=\"margin-bottom: 0.5em; margin-top: 0em\">\n",
       "            <b>\n",
       "    \n",
       "        y=1\n",
       "    \n",
       "</b>\n",
       "\n",
       "    \n",
       "    (probability <b>0.597</b>, score <b>0.392</b>)\n",
       "\n",
       "top features\n",
       "        </p>\n",
       "    \n",
       "    <table class=\"eli5-weights\"\n",
       "           style=\"border-collapse: collapse; border: none; margin-top: 0em; table-layout: auto; margin-bottom: 2em;\">\n",
       "        <thead>\n",
       "        <tr style=\"border: none;\">\n",
       "            \n",
       "                <th style=\"padding: 0 1em 0 0.5em; text-align: right; border: none;\" title=\"Feature contribution already accounts for the feature value (for linear models, contribution = weight * feature value), and the sum of feature contributions is equal to the score or, for some classifiers, to the probability. Feature values are shown if &quot;show_feature_values&quot; is True.\">\n",
       "                    Contribution<sup>?</sup>\n",
       "                </th>\n",
       "            \n",
       "            <th style=\"padding: 0 0.5em 0 0.5em; text-align: left; border: none;\">Feature</th>\n",
       "            \n",
       "        </tr>\n",
       "        </thead>\n",
       "        <tbody>\n",
       "        \n",
       "            <tr style=\"background-color: hsl(120, 100.00%, 84.62%); border: none;\">\n",
       "    <td style=\"padding: 0 1em 0 0.5em; text-align: right; border: none;\">\n",
       "        +1.804\n",
       "    </td>\n",
       "    <td style=\"padding: 0 0.5em 0 0.5em; text-align: left; border: none;\">\n",
       "        pathetic\n",
       "    </td>\n",
       "    \n",
       "</tr>\n",
       "        \n",
       "            <tr style=\"background-color: hsl(120, 100.00%, 93.87%); border: none;\">\n",
       "    <td style=\"padding: 0 1em 0 0.5em; text-align: right; border: none;\">\n",
       "        +0.485\n",
       "    </td>\n",
       "    <td style=\"padding: 0 0.5em 0 0.5em; text-align: left; border: none;\">\n",
       "        puppet\n",
       "    </td>\n",
       "    \n",
       "</tr>\n",
       "        \n",
       "            <tr style=\"background-color: hsl(120, 100.00%, 95.09%); border: none;\">\n",
       "    <td style=\"padding: 0 1em 0 0.5em; text-align: right; border: none;\">\n",
       "        +0.353\n",
       "    </td>\n",
       "    <td style=\"padding: 0 0.5em 0 0.5em; text-align: left; border: none;\">\n",
       "        sock\n",
       "    </td>\n",
       "    \n",
       "</tr>\n",
       "        \n",
       "            <tr style=\"background-color: hsl(120, 100.00%, 96.09%); border: none;\">\n",
       "    <td style=\"padding: 0 1em 0 0.5em; text-align: right; border: none;\">\n",
       "        +0.255\n",
       "    </td>\n",
       "    <td style=\"padding: 0 0.5em 0 0.5em; text-align: left; border: none;\">\n",
       "        jpgordon\n",
       "    </td>\n",
       "    \n",
       "</tr>\n",
       "        \n",
       "            <tr style=\"background-color: hsl(120, 100.00%, 96.36%); border: none;\">\n",
       "    <td style=\"padding: 0 1em 0 0.5em; text-align: right; border: none;\">\n",
       "        +0.230\n",
       "    </td>\n",
       "    <td style=\"padding: 0 0.5em 0 0.5em; text-align: left; border: none;\">\n",
       "        129\n",
       "    </td>\n",
       "    \n",
       "</tr>\n",
       "        \n",
       "            <tr style=\"background-color: hsl(120, 100.00%, 96.77%); border: none;\">\n",
       "    <td style=\"padding: 0 1em 0 0.5em; text-align: right; border: none;\">\n",
       "        +0.194\n",
       "    </td>\n",
       "    <td style=\"padding: 0 0.5em 0 0.5em; text-align: left; border: none;\">\n",
       "        244\n",
       "    </td>\n",
       "    \n",
       "</tr>\n",
       "        \n",
       "            <tr style=\"background-color: hsl(120, 100.00%, 98.06%); border: none;\">\n",
       "    <td style=\"padding: 0 1em 0 0.5em; text-align: right; border: none;\">\n",
       "        +0.094\n",
       "    </td>\n",
       "    <td style=\"padding: 0 0.5em 0 0.5em; text-align: left; border: none;\">\n",
       "        exchange\n",
       "    </td>\n",
       "    \n",
       "</tr>\n",
       "        \n",
       "            <tr style=\"background-color: hsl(120, 100.00%, 99.19%); border: none;\">\n",
       "    <td style=\"padding: 0 1em 0 0.5em; text-align: right; border: none;\">\n",
       "        +0.027\n",
       "    </td>\n",
       "    <td style=\"padding: 0 0.5em 0 0.5em; text-align: left; border: none;\">\n",
       "        conversation\n",
       "    </td>\n",
       "    \n",
       "</tr>\n",
       "        \n",
       "            <tr style=\"background-color: hsl(120, 100.00%, 99.58%); border: none;\">\n",
       "    <td style=\"padding: 0 1em 0 0.5em; text-align: right; border: none;\">\n",
       "        +0.010\n",
       "    </td>\n",
       "    <td style=\"padding: 0 0.5em 0 0.5em; text-align: left; border: none;\">\n",
       "        really\n",
       "    </td>\n",
       "    \n",
       "</tr>\n",
       "        \n",
       "        \n",
       "\n",
       "        \n",
       "        \n",
       "            <tr style=\"background-color: hsl(0, 100.00%, 97.75%); border: none;\">\n",
       "    <td style=\"padding: 0 1em 0 0.5em; text-align: right; border: none;\">\n",
       "        -0.116\n",
       "    </td>\n",
       "    <td style=\"padding: 0 0.5em 0 0.5em; text-align: left; border: none;\">\n",
       "        127\n",
       "    </td>\n",
       "    \n",
       "</tr>\n",
       "        \n",
       "            <tr style=\"background-color: hsl(0, 100.00%, 97.22%); border: none;\">\n",
       "    <td style=\"padding: 0 1em 0 0.5em; text-align: right; border: none;\">\n",
       "        -0.156\n",
       "    </td>\n",
       "    <td style=\"padding: 0 0.5em 0 0.5em; text-align: left; border: none;\">\n",
       "        133\n",
       "    </td>\n",
       "    \n",
       "</tr>\n",
       "        \n",
       "            <tr style=\"background-color: hsl(0, 100.00%, 97.15%); border: none;\">\n",
       "    <td style=\"padding: 0 1em 0 0.5em; text-align: right; border: none;\">\n",
       "        -0.162\n",
       "    </td>\n",
       "    <td style=\"padding: 0 0.5em 0 0.5em; text-align: left; border: none;\">\n",
       "        way\n",
       "    </td>\n",
       "    \n",
       "</tr>\n",
       "        \n",
       "            <tr style=\"background-color: hsl(0, 100.00%, 80.00%); border: none;\">\n",
       "    <td style=\"padding: 0 1em 0 0.5em; text-align: right; border: none;\">\n",
       "        -2.626\n",
       "    </td>\n",
       "    <td style=\"padding: 0 0.5em 0 0.5em; text-align: left; border: none;\">\n",
       "        &lt;BIAS&gt;\n",
       "    </td>\n",
       "    \n",
       "</tr>\n",
       "        \n",
       "\n",
       "        </tbody>\n",
       "    </table>\n",
       "\n",
       "            \n",
       "        \n",
       "\n",
       "        \n",
       "\n",
       "\n",
       "\n",
       "    \n",
       "\n",
       "    \n",
       "\n",
       "    \n",
       "\n",
       "    \n",
       "\n",
       "\n",
       "    \n",
       "\n",
       "    \n",
       "\n",
       "    \n",
       "\n",
       "    \n",
       "\n",
       "    \n",
       "\n",
       "    \n",
       "\n",
       "\n",
       "    \n",
       "\n",
       "    \n",
       "\n",
       "    \n",
       "\n",
       "    \n",
       "\n",
       "    \n",
       "\n",
       "    \n",
       "\n",
       "\n",
       "\n"
      ],
      "text/plain": [
       "<IPython.core.display.HTML object>"
      ]
     },
     "execution_count": 45,
     "metadata": {},
     "output_type": "execute_result"
    }
   ],
   "source": [
    "eli5.show_prediction(logreg, vec = vect, doc =  X_test.iloc[718]) "
   ]
  },
  {
   "cell_type": "code",
   "execution_count": null,
   "metadata": {
    "papermill": {
     "duration": 0.125567,
     "end_time": "2020-12-24T17:24:27.161607",
     "exception": false,
     "start_time": "2020-12-24T17:24:27.036040",
     "status": "completed"
    },
    "tags": []
   },
   "outputs": [],
   "source": []
  }
 ],
 "metadata": {
  "kernelspec": {
   "display_name": "Python 3",
   "language": "python",
   "name": "python3"
  },
  "language_info": {
   "codemirror_mode": {
    "name": "ipython",
    "version": 3
   },
   "file_extension": ".py",
   "mimetype": "text/x-python",
   "name": "python",
   "nbconvert_exporter": "python",
   "pygments_lexer": "ipython3",
   "version": "3.7.6"
  },
  "papermill": {
   "duration": 735.424141,
   "end_time": "2020-12-24T17:24:27.381080",
   "environment_variables": {},
   "exception": null,
   "input_path": "__notebook__.ipynb",
   "output_path": "__notebook__.ipynb",
   "parameters": {},
   "start_time": "2020-12-24T17:12:11.956939",
   "version": "2.1.0"
  }
 },
 "nbformat": 4,
 "nbformat_minor": 4
}
